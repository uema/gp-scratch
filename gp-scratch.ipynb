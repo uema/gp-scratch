{
 "cells": [
  {
   "cell_type": "markdown",
   "metadata": {},
   "source": [
    "## やること\n",
    "\n",
    "* https://www.slideshare.net/KenjiUrai/explanation-of-gpr\n",
    "    * 式の展開\n",
    "    * カーネルを使わないと..."
   ]
  },
  {
   "cell_type": "code",
   "execution_count": 1,
   "metadata": {
    "collapsed": true
   },
   "outputs": [],
   "source": [
    "import random\n",
    "\n",
    "import numpy as np\n",
    "import matplotlib.pyplot as plt\n",
    "%matplotlib inline\n",
    "\n",
    "from sklearn.datasets import load_iris"
   ]
  },
  {
   "cell_type": "code",
   "execution_count": 2,
   "metadata": {
    "collapsed": true
   },
   "outputs": [],
   "source": [
    "# data,target= load_iris().data,load_iris().target\n",
    "# print(data.shape, target.shape)\n",
    "# plt.subplot(121)\n",
    "# plt.scatter(data[:,0], target)\n",
    "# plt.subplot(122)\n",
    "# plt.scatter(data[:,1], target)\n",
    "num = 150\n",
    "data = np.array([np.linspace(0,2*np.pi,num),np.linspace(0,2*np.pi,num)]).T\n",
    "#data.shape\n",
    "target = np.sin(data[:,0])+np.cos(data[:,1])+np.random.rand(len(data))\n",
    "# plt.scatter(data, target)"
   ]
  },
  {
   "cell_type": "code",
   "execution_count": 4,
   "metadata": {},
   "outputs": [],
   "source": [
    "sample = random.sample(range(len(data)),k=len(data))\n",
    "\n",
    "X = data[sample[:75],0:2].T.reshape(2,-1)\n",
    "X_h = data[sample[75:],0:2].T.reshape(2,-1)\n",
    "y = target[sample[:75]].reshape(-1,1)\n",
    "\n",
    "sg = 0.1\n",
    "D,N = X.shape\n",
    "S = np.array([[10,1],[0.1,0.01]])\n",
    "\n",
    "#X-X_h\n",
    "#data.shape"
   ]
  },
  {
   "cell_type": "code",
   "execution_count": 87,
   "metadata": {},
   "outputs": [
    {
     "data": {
      "text/plain": [
       "[26,\n",
       " 1,\n",
       " 3,\n",
       " 146,\n",
       " 39,\n",
       " 119,\n",
       " 16,\n",
       " 6,\n",
       " 7,\n",
       " 129,\n",
       " 48,\n",
       " 60,\n",
       " 107,\n",
       " 148,\n",
       " 86,\n",
       " 68,\n",
       " 120,\n",
       " 66,\n",
       " 32,\n",
       " 82,\n",
       " 54,\n",
       " 40,\n",
       " 108,\n",
       " 14,\n",
       " 112,\n",
       " 20,\n",
       " 2,\n",
       " 81,\n",
       " 71,\n",
       " 89,\n",
       " 51,\n",
       " 12,\n",
       " 61,\n",
       " 100,\n",
       " 34,\n",
       " 125,\n",
       " 131,\n",
       " 49,\n",
       " 58,\n",
       " 96,\n",
       " 93,\n",
       " 59,\n",
       " 85,\n",
       " 94,\n",
       " 136,\n",
       " 143,\n",
       " 111,\n",
       " 133,\n",
       " 134,\n",
       " 62,\n",
       " 91,\n",
       " 101,\n",
       " 47,\n",
       " 102,\n",
       " 95,\n",
       " 83,\n",
       " 117,\n",
       " 116,\n",
       " 13,\n",
       " 29,\n",
       " 46,\n",
       " 75,\n",
       " 5,\n",
       " 124,\n",
       " 11,\n",
       " 130,\n",
       " 55,\n",
       " 43,\n",
       " 127,\n",
       " 78,\n",
       " 141,\n",
       " 142,\n",
       " 139,\n",
       " 115,\n",
       " 17,\n",
       " 138,\n",
       " 149,\n",
       " 41,\n",
       " 21,\n",
       " 0,\n",
       " 23,\n",
       " 92,\n",
       " 135,\n",
       " 31,\n",
       " 97,\n",
       " 52,\n",
       " 126,\n",
       " 121,\n",
       " 44,\n",
       " 144,\n",
       " 109,\n",
       " 132,\n",
       " 38,\n",
       " 25,\n",
       " 19,\n",
       " 84,\n",
       " 65,\n",
       " 73,\n",
       " 10,\n",
       " 56,\n",
       " 123,\n",
       " 128,\n",
       " 27,\n",
       " 104,\n",
       " 90,\n",
       " 28,\n",
       " 24,\n",
       " 35,\n",
       " 18,\n",
       " 118,\n",
       " 113,\n",
       " 87,\n",
       " 140,\n",
       " 137,\n",
       " 15,\n",
       " 145,\n",
       " 9,\n",
       " 57,\n",
       " 50,\n",
       " 22,\n",
       " 72,\n",
       " 45,\n",
       " 105,\n",
       " 98,\n",
       " 114,\n",
       " 33,\n",
       " 69,\n",
       " 67,\n",
       " 79,\n",
       " 80,\n",
       " 63,\n",
       " 106,\n",
       " 77,\n",
       " 110,\n",
       " 30,\n",
       " 64,\n",
       " 42,\n",
       " 147,\n",
       " 37,\n",
       " 70,\n",
       " 88,\n",
       " 122,\n",
       " 4,\n",
       " 74,\n",
       " 76,\n",
       " 8,\n",
       " 103,\n",
       " 99,\n",
       " 36,\n",
       " 53]"
      ]
     },
     "execution_count": 87,
     "metadata": {},
     "output_type": "execute_result"
    }
   ],
   "source": [
    "random.sample(range(len(data)),k=len(data))"
   ]
  },
  {
   "cell_type": "code",
   "execution_count": 5,
   "metadata": {},
   "outputs": [
    {
     "data": {
      "text/plain": [
       "<matplotlib.collections.PathCollection at 0x10a6a8fa630>"
      ]
     },
     "execution_count": 5,
     "metadata": {},
     "output_type": "execute_result"
    },
    {
     "data": {
      "image/png": "[encoded data removed]",
      "text/plain": [
       "<matplotlib.figure.Figure at 0x10a6a6d1da0>"
      ]
     },
     "metadata": {},
     "output_type": "display_data"
    }
   ],
   "source": [
    "def inv(X):\n",
    "    return np.linalg.inv(X)\n",
    "\n",
    "def kernel(x, y, a=0.1, b=0.1):\n",
    "    return a*np.exp((-b/2)*(x-y)**2)\n",
    "\n",
    "\n",
    "y_h = X_h.T.dot(S.dot(X)).dot(inv(X.T.dot(S.dot(X))+sg*np.eye(N,N))).dot(y)\n",
    "y_h.shape\n",
    "plt.scatter(data[sample[75:],0],y_h)\n",
    "#plt.scatter(target[sample[75:]],y_h)\n",
    "plt.scatter(data[sample[75:],0],target[sample[75:]])"
   ]
  }
 ],
 "metadata": {
  "kernelspec": {
   "display_name": "py35",
   "language": "python",
   "name": "py35"
  },
  "language_info": {
   "codemirror_mode": {
    "name": "ipython",
    "version": 3
   },
   "file_extension": ".py",
   "mimetype": "text/x-python",
   "name": "python",
   "nbconvert_exporter": "python",
   "pygments_lexer": "ipython3",
   "version": "3.6.0"
  }
 },
 "nbformat": 4,
 "nbformat_minor": 2
}
