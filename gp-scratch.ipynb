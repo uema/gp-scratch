{
 "cells": [
  {
   "cell_type": "markdown",
   "metadata": {},
   "source": [
    "## やること\n",
    "\n",
    "* https://www.slideshare.net/KenjiUrai/explanation-of-gpr\n",
    "    * 式の展開\n",
    "    * カーネルを使わないと..."
   ]
  },
  {
   "cell_type": "code",
   "execution_count": 2,
   "metadata": {
    "collapsed": true
   },
   "outputs": [],
   "source": [
    "import random\n",
    "\n",
    "import numpy as np\n",
    "import matplotlib.pyplot as plt\n",
    "%matplotlib inline\n",
    "\n",
    "from sklearn.datasets import load_iris"
   ]
  },
  {
   "cell_type": "code",
   "execution_count": 92,
   "metadata": {},
   "outputs": [],
   "source": [
    "# data,target= load_iris().data,load_iris().target\n",
    "# print(data.shape, target.shape)\n",
    "# plt.subplot(121)\n",
    "# plt.scatter(data[:,0], target)\n",
    "# plt.subplot(122)\n",
    "# plt.scatter(data[:,1], target)\n",
    "num = 150\n",
    "data = np.array([np.linspace(0,2*np.pi,num),np.linspace(0,2*np.pi,num)]).T\n",
    "target = np.sin(data[:,0])+np.cos(data[:,1])+np.random.rand(len(data))\n",
    "#plt.scatter(data, target)"
   ]
  },
  {
   "cell_type": "code",
   "execution_count": 93,
   "metadata": {},
   "outputs": [
    {
     "name": "stdout",
     "output_type": "stream",
     "text": [
      "(2, 50) (50, 1)\n"
     ]
    }
   ],
   "source": [
    "sample = random.sample(range(len(data)),k=len(data))\n",
    "\n",
    "sample_num = 50\n",
    "X = data[sample[:sample_num],0:2].T.reshape(2,-1)\n",
    "X_h = data[sample[sample_num:],0:2].T.reshape(2,-1)\n",
    "y = target[sample[:sample_num]].reshape(-1,1)\n",
    "\n",
    "sg = 0.1\n",
    "D,N = X.shape\n",
    "S = np.array([[10,1],[0.1,0.01]])\n",
    "\n",
    "#X-X_h\n",
    "print(X.shape, y.shape)"
   ]
  },
  {
   "cell_type": "code",
   "execution_count": 94,
   "metadata": {},
   "outputs": [],
   "source": [
    "def inv(X):\n",
    "    return np.linalg.inv(X)\n",
    "\n",
    "def norm(x):\n",
    "    return np.linalg.norm(x)\n",
    "\n",
    "def kernel(x, y, a=0.1, b=0.1):\n",
    "    return a*np.exp((-b/2)*norm(x-y)**2)\n",
    "\n",
    "def K(X):\n",
    "    N = X.shape[1]\n",
    "    KM = np.zeros((N,N))\n",
    "    for i in range(N):\n",
    "        for j in range(N):\n",
    "            KM[i,j] = kernel(X[:,i],X[:,j]) \n",
    "    return KM\n",
    "\n",
    "def k(X_h, X):\n",
    "    N_h, N = X_h.shape[1], X.shape[1]\n",
    "    kM = np.zeros((N,N_h))\n",
    "    for i in range(N):\n",
    "        for j in range(N_h):\n",
    "            kM[i,j] = kernel(X_h[:,j], X[:,i]) \n",
    "    return kM\n",
    "\n",
    "def k_(X):\n",
    "    N = X.shape[1]\n",
    "    kv = np.zeros((N,1))\n",
    "    for i in range(N):\n",
    "        kv[i,0] = kernel(X[:,i], X[:,i])\n",
    "    return kv\n",
    "    "
   ]
  },
  {
   "cell_type": "code",
   "execution_count": 85,
   "metadata": {},
   "outputs": [
    {
     "data": {
      "text/plain": [
       "(100, 1)"
      ]
     },
     "execution_count": 85,
     "metadata": {},
     "output_type": "execute_result"
    }
   ],
   "source": [
    "#X_h-X[:,1]\n",
    "\n",
    "k_(X_h).shape\n",
    "k_M.T.shape\n",
    "\n",
    "\n",
    "\n",
    "#k(X_h, X).shape\n",
    "(k_V-np.diag(k_M.T.dot(C_M).dot(k_M)).reshape(-1,1)).shape"
   ]
  },
  {
   "cell_type": "code",
   "execution_count": 95,
   "metadata": {},
   "outputs": [
    {
     "data": {
      "text/plain": [
       "array([[ 0.00479502],\n",
       "       [ 0.01054518],\n",
       "       [ 0.00504595],\n",
       "       [ 0.00834178],\n",
       "       [ 0.00687153],\n",
       "       [ 0.00492838],\n",
       "       [ 0.00484946],\n",
       "       [ 0.00564398],\n",
       "       [ 0.00438884],\n",
       "       [ 0.00805058],\n",
       "       [ 0.00496168],\n",
       "       [ 0.00456285],\n",
       "       [ 0.00442246],\n",
       "       [ 0.00668511],\n",
       "       [ 0.00476908],\n",
       "       [ 0.00639835],\n",
       "       [ 0.00467757],\n",
       "       [ 0.00651579],\n",
       "       [ 0.00562183],\n",
       "       [ 0.00462644],\n",
       "       [ 0.00607547],\n",
       "       [ 0.00486271],\n",
       "       [ 0.00528226],\n",
       "       [ 0.0054772 ],\n",
       "       [ 0.00516723],\n",
       "       [ 0.00595288],\n",
       "       [ 0.0059357 ],\n",
       "       [ 0.00438558],\n",
       "       [ 0.00438365],\n",
       "       [ 0.0044431 ],\n",
       "       [ 0.0056761 ],\n",
       "       [ 0.01250029],\n",
       "       [ 0.00934114],\n",
       "       [ 0.00709337],\n",
       "       [ 0.00520275],\n",
       "       [ 0.0049398 ],\n",
       "       [ 0.00452452],\n",
       "       [ 0.00957772],\n",
       "       [ 0.0054797 ],\n",
       "       [ 0.00447221],\n",
       "       [ 0.00470673],\n",
       "       [ 0.01305519],\n",
       "       [ 0.00440081],\n",
       "       [ 0.00508622],\n",
       "       [ 0.00464929],\n",
       "       [ 0.00479862],\n",
       "       [ 0.00502907],\n",
       "       [ 0.0060139 ],\n",
       "       [ 0.00500834],\n",
       "       [ 0.00540798],\n",
       "       [ 0.00971877],\n",
       "       [ 0.00664324],\n",
       "       [ 0.00460462],\n",
       "       [ 0.00609861],\n",
       "       [ 0.00448847],\n",
       "       [ 0.01305822],\n",
       "       [ 0.00527566],\n",
       "       [ 0.01424727],\n",
       "       [ 0.00489537],\n",
       "       [ 0.00497307],\n",
       "       [ 0.00811852],\n",
       "       [ 0.00543377],\n",
       "       [ 0.00898627],\n",
       "       [ 0.00584062],\n",
       "       [ 0.00444985],\n",
       "       [ 0.00531335],\n",
       "       [ 0.0052271 ],\n",
       "       [ 0.00443528],\n",
       "       [ 0.00458341],\n",
       "       [ 0.00729117],\n",
       "       [ 0.00517636],\n",
       "       [ 0.00440919],\n",
       "       [ 0.00512955],\n",
       "       [ 0.0078821 ],\n",
       "       [ 0.00579638],\n",
       "       [ 0.00693123],\n",
       "       [ 0.00924622],\n",
       "       [ 0.00893535],\n",
       "       [ 0.00450574],\n",
       "       [ 0.00777897],\n",
       "       [ 0.00438928],\n",
       "       [ 0.00473669],\n",
       "       [ 0.00837232],\n",
       "       [ 0.00620916],\n",
       "       [ 0.00766222],\n",
       "       [ 0.004394  ],\n",
       "       [ 0.00487823],\n",
       "       [ 0.01099529],\n",
       "       [ 0.00448403],\n",
       "       [ 0.00745803],\n",
       "       [ 0.00552279],\n",
       "       [ 0.00993062],\n",
       "       [ 0.00439482],\n",
       "       [ 0.00573412],\n",
       "       [ 0.01070355],\n",
       "       [ 0.00499525],\n",
       "       [ 0.01147082],\n",
       "       [ 0.01030566],\n",
       "       [ 0.00629015],\n",
       "       [ 0.00476735]])"
      ]
     },
     "execution_count": 95,
     "metadata": {},
     "output_type": "execute_result"
    },
    {
     "data": {
      "image/png": "[encoded data removed]",
      "text/plain": [
       "<matplotlib.figure.Figure at 0x2518ab66320>"
      ]
     },
     "metadata": {},
     "output_type": "display_data"
    }
   ],
   "source": [
    "C_M = inv(K(X)+sg*np.eye(N,N))\n",
    "k_M = k(X_h, X)\n",
    "k_V = k_(X_h)\n",
    "\n",
    "yh_mean = k_M.T.dot(C_M).dot(y)\n",
    "\n",
    "yh_var = k_V - np.diag(k_M.T.dot(C_M).dot(k_M)).reshape(-1,1)\n",
    "\n",
    "#plt.subplot(211)\n",
    "plt.scatter(data[sample[sample_num:],0],yh_mean)\n",
    "plt.scatter(data[sample[sample_num:],0],target[sample[sample_num:]])\n",
    "# plt.subplot(212)\n",
    "# plt.scatter(data[sample[sample_num:],1],yh_mean)\n",
    "# plt.scatter(data[sample[sample_num:],1],target[sample[sample_num:]])\n",
    "\n",
    "\n",
    "plt.errorbar(data[sample[sample_num:],0],yh_mean,yerr=np.sqrt(yh_var),fmt='ro',ecolor='g')\n",
    "\n",
    "yh_var"
   ]
  }
 ],
 "metadata": {
  "kernelspec": {
   "display_name": "py35",
   "language": "python",
   "name": "py35"
  },
  "language_info": {
   "codemirror_mode": {
    "name": "ipython",
    "version": 3
   },
   "file_extension": ".py",
   "mimetype": "text/x-python",
   "name": "python",
   "nbconvert_exporter": "python",
   "pygments_lexer": "ipython3",
   "version": "3.6.0"
  }
 },
 "nbformat": 4,
 "nbformat_minor": 2
}
