{
 "cells": [
  {
   "cell_type": "markdown",
   "metadata": {},
   "source": [
    "## 参考\n",
    "\n",
    "* https://www.slideshare.net/KenjiUrai/explanation-of-gpr\n",
    "    * 式の展開\n",
    "    * カーネルを使う"
   ]
  },
  {
   "cell_type": "code",
   "execution_count": 1,
   "metadata": {},
   "outputs": [],
   "source": [
    "import random\n",
    "\n",
    "import numpy as np\n",
    "import matplotlib.pyplot as plt\n",
    "%matplotlib inline\n",
    "\n",
    "from sklearn.datasets import load_iris"
   ]
  },
  {
   "cell_type": "code",
   "execution_count": 2,
   "metadata": {},
   "outputs": [],
   "source": [
    "# data,target= load_iris().data,load_iris().target\n",
    "# print(data.shape, target.shape)\n",
    "# plt.subplot(121)\n",
    "# plt.scatter(data[:,0], target)\n",
    "# plt.subplot(122)\n",
    "# plt.scatter(data[:,1], target)\n",
    "num = 100\n",
    "data = np.array([np.linspace(0,2*np.pi,num),np.linspace(0,2*np.pi,num)]).T\n",
    "target = np.sin(data[:,0])+np.cos(data[:,1])+np.random.rand(len(data))"
   ]
  },
  {
   "cell_type": "code",
   "execution_count": 46,
   "metadata": {},
   "outputs": [
    {
     "name": "stdout",
     "output_type": "stream",
     "text": [
      "(2, 100) (100, 1)\n"
     ]
    }
   ],
   "source": [
    "sample = random.sample(range(len(data)),k=len(data))\n",
    "\n",
    "sample_num = 100\n",
    "X = data[sample[:sample_num],0:2].T.reshape(2,-1)\n",
    "y = target[sample[:sample_num]].reshape(-1,1)\n",
    "\n",
    "sg = 0.1\n",
    "D,N = X.shape\n",
    "S = np.array([[10,1],[0.1,0.01]])\n",
    "\n",
    "#X-X_h\n",
    "print(X.shape, y.shape)"
   ]
  },
  {
   "cell_type": "code",
   "execution_count": 4,
   "metadata": {},
   "outputs": [],
   "source": [
    "def inv(X):\n",
    "    return np.linalg.inv(X)\n",
    "\n",
    "def norm(x):\n",
    "    return np.linalg.norm(x)\n",
    "\n",
    "def kernel(x, y, a=0.1, b=0.1):\n",
    "    return a*np.exp((-b/2)*norm(x-y)**2)\n",
    "\n",
    "def K(X):\n",
    "    N = X.shape[1]\n",
    "    KM = np.zeros((N,N))\n",
    "    for i in range(N):\n",
    "        for j in range(N):\n",
    "            KM[i,j] = kernel(X[:,i],X[:,j]) \n",
    "    return KM\n",
    "\n",
    "def k(X_h, X):\n",
    "    N_h, N = X_h.shape[1], X.shape[1]\n",
    "    kM = np.zeros((N,N_h))\n",
    "    for i in range(N):\n",
    "        for j in range(N_h):\n",
    "            kM[i,j] = kernel(X_h[:,j], X[:,i]) \n",
    "    return kM\n",
    "\n",
    "def k_(X):\n",
    "    N = X.shape[1]\n",
    "    kv = np.zeros((N,1))\n",
    "    for i in range(N):\n",
    "        kv[i,0] = kernel(X[:,i], X[:,i])\n",
    "    return kv"
   ]
  },
  {
   "cell_type": "code",
   "execution_count": 39,
   "metadata": {},
   "outputs": [
    {
     "data": {
      "text/plain": [
       "(100, 1)"
      ]
     },
     "execution_count": 39,
     "metadata": {},
     "output_type": "execute_result"
    }
   ],
   "source": [
    "np.diag(k_M.T.dot(C_M).dot(k_M)).ravel().shape\n",
    "k_V.shape "
   ]
  },
  {
   "cell_type": "code",
   "execution_count": 54,
   "metadata": {},
   "outputs": [
    {
     "data": {
      "text/plain": [
       "<matplotlib.collections.PolyCollection at 0x19b88319518>"
      ]
     },
     "execution_count": 54,
     "metadata": {},
     "output_type": "execute_result"
    },
    {
     "data": {
      "image/png": "[encoded data removed]",
      "text/plain": [
       "<matplotlib.figure.Figure at 0x19b864d1ba8>"
      ]
     },
     "metadata": {},
     "output_type": "display_data"
    }
   ],
   "source": [
    "X_h = np.array([np.linspace(0,10+2*np.pi,num,100),np.linspace(0,2*np.pi,num,100)])\n",
    "y_true = np.sin(X_h[0,:])+np.cos(X_h[1,:])+np.random.rand(X_h.shape[1])\n",
    "\n",
    "C_M = inv(K(X)+sg*np.eye(N,N))\n",
    "k_M = k(X_h, X)\n",
    "k_V = k_(X_h)\n",
    "\n",
    "yh_mean = k_M.T.dot(C_M).dot(y)\n",
    "\n",
    "yh_var = k_V - np.diag(k_M.T.dot(C_M).dot(k_M)).reshape(-1,1)\n",
    "yh_std = np.sqrt(yh_var)\n",
    "\n",
    "plt.plot(X_h[0,:],yh_mean,c=\"red\")\n",
    "plt.scatter(X_h[0,:], y_true)\n",
    "\n",
    "#yh_mean+yh_var\n",
    "plt.fill_between(X_h[0,:], (yh_mean-yh_std).reshape(-1,), (yh_mean+yh_std).reshape(-1,), alpha=0.5)\n",
    "\n",
    "#yh_var"
   ]
  },
  {
   "cell_type": "code",
   "execution_count": null,
   "metadata": {},
   "outputs": [],
   "source": []
  }
 ],
 "metadata": {
  "kernelspec": {
   "display_name": "Python 3",
   "language": "python",
   "name": "python3"
  },
  "language_info": {
   "codemirror_mode": {
    "name": "ipython",
    "version": 3
   },
   "file_extension": ".py",
   "mimetype": "text/x-python",
   "name": "python",
   "nbconvert_exporter": "python",
   "pygments_lexer": "ipython3",
   "version": "3.6.0"
  }
 },
 "nbformat": 4,
 "nbformat_minor": 2
}
