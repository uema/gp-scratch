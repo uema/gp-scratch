{
 "cells": [
  {
   "cell_type": "markdown",
   "metadata": {},
   "source": [
    "## 参考\n",
    "\n",
    "* 式展開\n",
    "    * https://www.slideshare.net/KenjiUrai/explanation-of-gpr\n",
    "* ハイパーパラメータ\n",
    "    * https://qiita.com/ctgk/items/4c4607edf15072cddc46"
   ]
  },
  {
   "cell_type": "code",
   "execution_count": 6,
   "metadata": {
    "collapsed": true
   },
   "outputs": [],
   "source": [
    "import random\n",
    "import numpy as np\n",
    "import matplotlib.pyplot as plt\n",
    "%matplotlib inline"
   ]
  },
  {
   "cell_type": "code",
   "execution_count": 31,
   "metadata": {},
   "outputs": [],
   "source": [
    "inv = lambda X: np.linalg.inv(X)\n",
    "\n",
    "norm = lambda x: np.linalg.norm(x)\n",
    "\n",
    "def kernel(x, y, a=1, b=1):\n",
    "    return a*np.exp(-b*0.5*norm(x-y)**2)\n",
    "\n",
    "def K(X, a=1, b=1):\n",
    "    N = X.shape[1]\n",
    "    KM = np.zeros((N,N))\n",
    "    for i in range(N):\n",
    "        for j in range(N):\n",
    "            KM[i,j] = kernel(X[:,i],X[:,j],a, b) \n",
    "    return KM\n",
    "\n",
    "def k(X_h, X, a=1, b=1):\n",
    "    N_h, N = X_h.shape[1], X.shape[1]\n",
    "    kM = np.zeros((N,N_h))\n",
    "    for i in range(N):\n",
    "        for j in range(N_h):\n",
    "            kM[i,j] = kernel(X_h[:,j], X[:,i],a, b) \n",
    "    return kM\n",
    "\n",
    "def k_(X, a=1, b=1):\n",
    "    N = X.shape[1]\n",
    "    kv = np.zeros((N,1))\n",
    "    for i in range(N):\n",
    "        kv[i,0] = kernel(X[:,i], X[:,i], a, b)\n",
    "    return kv\n",
    "\n",
    "def grad(X, a=1, b=1):\n",
    "    N = X.shape[1]\n",
    "    GA, GB = np.zeros((N,N)), np.zeros((N,N))\n",
    "    for i in range(N):\n",
    "        for j in range(N):\n",
    "            diff = norm(X[:,i]-X[:,j])**2\n",
    "            GA[i,j] = np.exp(-0.5*b*diff)\n",
    "            GB[i,j] = -0.5*a*b*diff*GA[i,j]\n",
    "    return GA, GB\n",
    "\n",
    "update = lambda y, C, G: -0.5*np.trace(C.dot(G))+0.5*y.T.dot(C.dot(G.dot(C.dot(y))))"
   ]
  },
  {
   "cell_type": "code",
   "execution_count": 36,
   "metadata": {},
   "outputs": [],
   "source": [
    "num = 100\n",
    "data = np.array([np.linspace(0,2*np.pi,num),np.linspace(0,2*np.pi,num)]).T\n",
    "target = np.sin(data[:,0])+np.cos(data[:,1])+np.random.rand(len(data))\n",
    "\n",
    "# 学習用データ\n",
    "sample = random.sample(range(len(data)),k=len(data))\n",
    "sample_num = 25\n",
    "X = data[sample[:sample_num],0:2].T.reshape(2,-1)\n",
    "y = target[sample[:sample_num]].reshape(-1,1)"
   ]
  },
  {
   "cell_type": "code",
   "execution_count": 37,
   "metadata": {},
   "outputs": [
    {
     "name": "stdout",
     "output_type": "stream",
     "text": [
      "[[ 0.93327873]] [[ 0.87025506]]\n",
      "[[ 0.88517773]] [[ 0.75348321]]\n",
      "[[ 0.85529766]] [[ 0.6504889]]\n",
      "[[ 0.84153299]] [[ 0.5616694]]\n",
      "[[ 0.84080415]] [[ 0.48700293]]\n",
      "[[ 0.8499503]] [[ 0.42615489]]\n",
      "[[ 0.86620699]] [[ 0.37855988]]\n",
      "[[ 0.8871866]] [[ 0.34328526]]\n",
      "[[ 0.91069402]] [[ 0.31871149]]\n",
      "[[ 0.93474629]] [[ 0.30246578]]\n",
      "[[ 0.95782886]] [[ 0.29192768]]\n",
      "[[ 0.97907832]] [[ 0.2849109]]\n",
      "[[ 0.99819883]] [[ 0.27995612]]\n",
      "[[ 1.01523612]] [[ 0.27622046]]\n",
      "[[ 1.03038284]] [[ 0.27324837]]\n",
      "[[ 1.04386787]] [[ 0.27079341]]\n",
      "[[ 1.05590851]] [[ 0.26871509]]\n",
      "[[ 1.06669521]] [[ 0.26692672]]\n",
      "[[ 1.07639007]] [[ 0.26537021]]\n",
      "[[ 1.08512987]] [[ 0.26400397]]\n",
      "[[ 1.09303017]] [[ 0.26279669]]\n",
      "[[ 1.10018899]] [[ 0.26172401]]\n",
      "[[ 1.10669004]] [[ 0.2607665]]\n",
      "[[ 1.11260524]] [[ 0.25990841]]\n",
      "[[ 1.11799676]] [[ 0.25913678]]\n",
      "[[ 1.12291862]] [[ 0.25844079]]\n",
      "[[ 1.12741804]] [[ 0.25781138]]\n",
      "[[ 1.1315365]] [[ 0.25724082]]\n",
      "[[ 1.13531055]] [[ 0.25672254]]\n",
      "[[ 1.13877258]] [[ 0.25625087]]\n",
      "[[ 1.14195136]] [[ 0.25582089]]\n",
      "[[ 1.14487256]] [[ 0.25542833]]\n",
      "[[ 1.14755913]] [[ 0.25506945]]\n",
      "[[ 1.15003167]] [[ 0.25474094]]\n",
      "[[ 1.1523087]] [[ 0.25443991]]\n",
      "[[ 1.15440691]] [[ 0.25416378]]\n",
      "[[ 1.15634139]] [[ 0.25391024]]\n",
      "[[ 1.1581258]] [[ 0.25367727]]\n",
      "[[ 1.15977252]] [[ 0.25346302]]\n",
      "[[ 1.16129282]] [[ 0.25326586]]\n",
      "[[ 1.16269694]] [[ 0.2530843]]\n",
      "[[ 1.1639942]] [[ 0.25291701]]\n",
      "[[ 1.16519313]] [[ 0.25276278]]\n",
      "[[ 1.16630152]] [[ 0.25262054]]\n",
      "[[ 1.16732647]] [[ 0.25248928]]\n",
      "[[ 1.16827451]] [[ 0.2523681]]\n",
      "[[ 1.16915162]] [[ 0.2522562]]\n",
      "[[ 1.16996327]] [[ 0.25215282]]\n",
      "[[ 1.17071451]] [[ 0.25205728]]\n",
      "[[ 1.17140994]] [[ 0.25196896]]\n"
     ]
    },
    {
     "data": {
      "text/plain": [
       "<matplotlib.collections.PolyCollection at 0x247c13c5c88>"
      ]
     },
     "execution_count": 37,
     "metadata": {},
     "output_type": "execute_result"
    },
    {
     "data": {
      "image/png": "[encoded data removed]",
      "text/plain": [
       "<matplotlib.figure.Figure at 0x247c00ff0b8>"
      ]
     },
     "metadata": {},
     "output_type": "display_data"
    }
   ],
   "source": [
    "# 予測用データ\n",
    "X_h = np.array([np.linspace(0,2*np.pi,num),np.linspace(0,2*np.pi,num)])\n",
    "\n",
    "sg = 1 # yの分散(適当)\n",
    "a, b = 1, 1 # カーネルのパラメータ(適当)\n",
    "lr = 0.1 # 学習率(適当)\n",
    "\n",
    "# 学習\n",
    "for i in range(50):\n",
    "    # カーネル計算\n",
    "    C_M = inv(K(X, a, b)+sg*np.eye(X.shape[1],X.shape[1]))\n",
    "    k_M = k(X_h, X, a, b)\n",
    "    k_V = k_(X_h, a, b)\n",
    "    \n",
    "    # ハイパーパラメータの更新\n",
    "    GA, GB = grad(X, a, b)\n",
    "    a += lr*update(y, C_M, GA)\n",
    "    b += lr*update(y, C_M, GB)\n",
    "    print(a, b)\n",
    "    \n",
    "# 平均値と分散\n",
    "yh_mean = k_M.T.dot(C_M).dot(y)\n",
    "yh_std = np.sqrt(k_V - np.diag(k_M.T.dot(C_M).dot(k_M)).reshape(-1,1))\n",
    "\n",
    "# plot\n",
    "plt.plot(X_h[0,:],yh_mean,c=\"red\")\n",
    "plt.scatter(X[0,:], y)\n",
    "plt.fill_between(X_h[0,:], (yh_mean-yh_std).reshape(-1,), (yh_mean+yh_std).reshape(-1,), alpha=0.5)"
   ]
  }
 ],
 "metadata": {
  "kernelspec": {
   "display_name": "Python 3",
   "language": "python",
   "name": "python3"
  },
  "language_info": {
   "codemirror_mode": {
    "name": "ipython",
    "version": 3
   },
   "file_extension": ".py",
   "mimetype": "text/x-python",
   "name": "python",
   "nbconvert_exporter": "python",
   "pygments_lexer": "ipython3",
   "version": "3.6.0"
  }
 },
 "nbformat": 4,
 "nbformat_minor": 2
}
