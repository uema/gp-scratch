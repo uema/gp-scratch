{
 "cells": [
  {
   "cell_type": "markdown",
   "metadata": {},
   "source": [
    "## 参考\n",
    "\n",
    "* 式展開\n",
    "    * https://www.slideshare.net/KenjiUrai/explanation-of-gpr\n",
    "* ハイパーパラメータ\n",
    "    * https://qiita.com/ctgk/items/4c4607edf15072cddc46\n",
    "\n",
    "## その他\n",
    "* 学習時にa, b がnanになる場合、learning rateを小さくするとよいっぽい"
   ]
  },
  {
   "cell_type": "code",
   "execution_count": 1,
   "metadata": {
    "collapsed": true
   },
   "outputs": [],
   "source": [
    "import random\n",
    "import numpy as np\n",
    "from numpy.linalg import inv, norm\n",
    "import matplotlib.pyplot as plt\n",
    "%matplotlib inline"
   ]
  },
  {
   "cell_type": "code",
   "execution_count": 156,
   "metadata": {
    "collapsed": true
   },
   "outputs": [],
   "source": [
    "#inv = lambda X: np.linalg.inv(X)\n",
    "\n",
    "#norm = lambda x: np.linalg.norm(x)\n",
    "\n",
    "def kernel(x, y, a=1, b=1):\n",
    "    return a*np.exp(-b*0.5*norm(x-y)**2)\n",
    "    \n",
    "def K(X, a=1, b=1):\n",
    "    N = X.shape[1]\n",
    "    KM = np.zeros((N,N))\n",
    "    for i in range(N):\n",
    "        for j in range(N):\n",
    "            KM[i,j] = kernel(X[:,i],X[:,j],a, b) \n",
    "    return KM\n",
    "\n",
    "def k(X_h, X, a=1, b=1):\n",
    "    N_h, N = X_h.shape[1], X.shape[1]\n",
    "    kM = np.zeros((N,N_h))\n",
    "    for i in range(N):\n",
    "        for j in range(N_h):\n",
    "            kM[i,j] = kernel(X_h[:,j], X[:,i],a, b) \n",
    "    return kM\n",
    "\n",
    "def k_(X, a=1, b=1):\n",
    "    N = X.shape[1]\n",
    "    kv = np.zeros((N,1))\n",
    "    for i in range(N):\n",
    "        kv[i,0] = kernel(X[:,i], X[:,i], a, b)\n",
    "    return kv\n",
    "\n",
    "def grad(X, a=1, b=1):\n",
    "    N = X.shape[1]\n",
    "    GA, GB = np.zeros((N,N)), np.zeros((N,N))\n",
    "    for i in range(N):\n",
    "        for j in range(N):\n",
    "            diff = norm(X[:,i]-X[:,j])**2\n",
    "            GA[i,j] = np.exp(-0.5*b*diff)\n",
    "            GB[i,j] = -0.5*a*b*diff*GA[i,j]\n",
    "    return GA, GB\n",
    "\n",
    "update = lambda y, C, G: -0.5*np.trace(C.dot(G))+0.5*y.T.dot(C.dot(G.dot(C.dot(y))))\n",
    "\n",
    "\"\"\"\n",
    "sg = 1 # yの分散(適当)\n",
    "a, b = 1, 1 # カーネルのパラメータ(適当)\n",
    "lr = 0.1 # 学習率(適当)\n",
    "\"\"\"\n",
    "def train(X, Xh, y, sg=1, a=1, b=1, lr=0.01, epoch=50):\n",
    "    for i in range(epoch):\n",
    "        # カーネル計算\n",
    "        Cm = inv(K(X, a, b)+sg*np.eye(X.shape[1],X.shape[1]))\n",
    "        kv = k(Xh, X, a, b)\n",
    "        kh = k_(Xh, a, b)\n",
    "        # ハイパーパラメータの更新\n",
    "        GA, GB = grad(X, a, b)\n",
    "        a += lr*update(y, Cm, GA)\n",
    "        b += lr*update(y, Cm, GB)\n",
    "        print(a, b)\n",
    "    \n",
    "    # 平均値と分散\n",
    "    yh_mean = kv.T.dot(Cm).dot(y)\n",
    "    yh_std = np.sqrt(kh - np.diag(kv.T.dot(Cm).dot(kv)).reshape(-1,1))\n",
    "    \n",
    "    return yh_mean, yh_std"
   ]
  },
  {
   "cell_type": "code",
   "execution_count": 122,
   "metadata": {
    "collapsed": true
   },
   "outputs": [],
   "source": [
    "#np.random.rand(num)"
   ]
  },
  {
   "cell_type": "code",
   "execution_count": 159,
   "metadata": {
    "collapsed": true
   },
   "outputs": [],
   "source": [
    "num = 1000\n",
    "data = np.array([2*np.pi*np.random.rand(num), 2*np.pi*np.random.rand(num)])\n",
    "target = np.sin(data[0,:])+np.cos(data[1,:])+np.random.rand(data.shape[1])\n",
    "\n",
    "# 学習用データ\n",
    "sample_num = 200\n",
    "sample = random.sample(range(data.shape[1]),k=data.shape[1])\n",
    "X = data[0:2, sample[:sample_num]]\n",
    "y = target[sample[:sample_num]].reshape(-1,1)\n",
    "\n",
    "# 予測用データ\n",
    "num_pred = 50\n",
    "Xh = np.array([np.linspace(0,2*np.pi,num_pred), np.ones(num_pred)])"
   ]
  },
  {
   "cell_type": "code",
   "execution_count": 160,
   "metadata": {},
   "outputs": [
    {
     "data": {
      "text/plain": [
       "(2, 8)"
      ]
     },
     "execution_count": 160,
     "metadata": {},
     "output_type": "execute_result"
    }
   ],
   "source": [
    "Xt = []\n",
    "yt = []\n",
    "for x, y_ in zip(X.T, y):\n",
    "    x1, x2 = x\n",
    "    if x2 > 0.9 and x2 < 1.1:\n",
    "        Xt.append([x1, x2])\n",
    "        yt.append(y_)\n",
    "Xt = np.array(Xt).T\n",
    "yt = np.array(yt)\n",
    "Xt.shape"
   ]
  },
  {
   "cell_type": "code",
   "execution_count": 161,
   "metadata": {},
   "outputs": [
    {
     "name": "stdout",
     "output_type": "stream",
     "text": [
      "[[ 0.965945]] [[ 0.86592097]]\n",
      "[[ 0.94079188]] [[ 0.74559092]]\n",
      "[[ 0.92440103]] [[ 0.63904319]]\n",
      "[[ 0.91656163]] [[ 0.54641215]]\n",
      "[[ 0.91707761]] [[ 0.4683196]]\n",
      "[[ 0.92569736]] [[ 0.40597652]]\n",
      "[[ 0.94173659]] [[ 0.36033803]]\n",
      "[[ 0.96358494]] [[ 0.3304197]]\n",
      "[[ 0.98880255]] [[ 0.31261662]]\n",
      "[[ 1.01503463]] [[ 0.3023318]]\n"
     ]
    },
    {
     "data": {
      "text/plain": [
       "<matplotlib.collections.PolyCollection at 0x19693b30ba8>"
      ]
     },
     "execution_count": 161,
     "metadata": {},
     "output_type": "execute_result"
    },
    {
     "data": {
      "image/png": "[encoded data removed]",
      "text/plain": [
       "<matplotlib.figure.Figure at 0x19693a342b0>"
      ]
     },
     "metadata": {},
     "output_type": "display_data"
    }
   ],
   "source": [
    "# 学習(パラメータは適当)\n",
    "yh_mean, yh_std = train(X, Xh, y, epoch = 10)\n",
    "\n",
    "# 予測\n",
    "plt.plot(Xh[0,:],yh_mean,c=\"red\")\n",
    "# 教師データ\n",
    "plt.scatter(Xt[0,:], yt)\n",
    "# 標準偏差を可視化\n",
    "plt.fill_between(Xh[0,:], (yh_mean-yh_std).reshape(-1,), (yh_mean+yh_std).reshape(-1,), alpha=0.5)"
   ]
  },
  {
   "cell_type": "code",
   "execution_count": 8,
   "metadata": {},
   "outputs": [
    {
     "data": {
      "text/plain": [
       "(10,)"
      ]
     },
     "execution_count": 8,
     "metadata": {},
     "output_type": "execute_result"
    }
   ],
   "source": [
    "from sklearn.datasets import load_boston\n",
    "\n",
    "data = load_boston().data.T\n",
    "y = load_boston().target\n",
    "\n",
    "np.corrcoef(data,y)[-1]\n",
    "\n",
    "#np.ones(10).shape\n",
    "np.linspace(0,1,10).shape"
   ]
  },
  {
   "cell_type": "code",
   "execution_count": 18,
   "metadata": {},
   "outputs": [
    {
     "data": {
      "text/plain": [
       "<matplotlib.collections.PathCollection at 0x14ff50ee7b8>"
      ]
     },
     "execution_count": 18,
     "metadata": {},
     "output_type": "execute_result"
    },
    {
     "data": {
      "image/png": "[encoded data removed]",
      "text/plain": [
       "<matplotlib.figure.Figure at 0x14ff3cf8278>"
      ]
     },
     "metadata": {},
     "output_type": "display_data"
    }
   ],
   "source": [
    "\n",
    "length= 70\n",
    "X = np.array([data[5,:length],data[12,:length]])\n",
    "y = load_boston().target[:length].reshape(-1,1)\n",
    "y = (y-y.mean())/y.std() # 平均をゼロに?\n",
    "\n",
    "# x1, x2 の片方の値は固定\n",
    "num = 70\n",
    "Xh = np.array([X[0,10]*np.ones(num),np.linspace(X[1].min(),X[1].max(),num)])\n",
    "\n",
    "plt.figure(figsize=(10,4))\n",
    "plt.subplot(121)\n",
    "plt.scatter(X[0], y)\n",
    "plt.subplot(122)\n",
    "plt.scatter(X[1], y)\n",
    "\n",
    "#np.linspace(X[0].min(),X[0].max(),num)"
   ]
  },
  {
   "cell_type": "code",
   "execution_count": 19,
   "metadata": {},
   "outputs": [
    {
     "name": "stdout",
     "output_type": "stream",
     "text": [
      "[[ 1.17779444]] [[ 1.20547617]]\n",
      "[[ 1.18110213]] [[ 1.53143933]]\n",
      "[[ 1.1327336]] [[ 1.61693005]]\n",
      "[[ 1.11025337]] [[ 1.63022481]]\n",
      "[[ 1.10826959]] [[ 1.63826243]]\n",
      "[[ 1.10660762]] [[ 1.63887836]]\n",
      "[[ 1.10662557]] [[ 1.6394936]]\n",
      "[[ 1.10648297]] [[ 1.63947899]]\n",
      "[[ 1.1065004]] [[ 1.6395327]]\n",
      "[[ 1.10648638]] [[ 1.63952548]]\n"
     ]
    }
   ],
   "source": [
    "# 学習(パラメータは適当)\n",
    "yh_mean, yh_std = train(X, Xh, y, epoch=10)"
   ]
  },
  {
   "cell_type": "code",
   "execution_count": 20,
   "metadata": {},
   "outputs": [
    {
     "name": "stdout",
     "output_type": "stream",
     "text": [
      "(70,) (70, 1)\n"
     ]
    },
    {
     "data": {
      "text/plain": [
       "<matplotlib.collections.PolyCollection at 0x14ff61b7b70>"
      ]
     },
     "execution_count": 20,
     "metadata": {},
     "output_type": "execute_result"
    },
    {
     "data": {
      "image/png": "[encoded data removed]",
      "text/plain": [
       "<matplotlib.figure.Figure at 0x14ff6160cf8>"
      ]
     },
     "metadata": {},
     "output_type": "display_data"
    }
   ],
   "source": [
    "print(Xh[0,:].shape,y.shape)\n",
    "\n",
    "# plot\n",
    "idx = 1\n",
    "plt.plot(Xh[idx,:],yh_mean,c=\"red\")\n",
    "plt.scatter(X[idx,:], y)\n",
    "plt.fill_between(Xh[idx,:], (yh_mean-yh_std).reshape(-1,), (yh_mean+yh_std).reshape(-1,), alpha=0.5)"
   ]
  },
  {
   "cell_type": "code",
   "execution_count": 49,
   "metadata": {},
   "outputs": [
    {
     "data": {
      "text/plain": [
       "array([ 6.421,  9.14 ])"
      ]
     },
     "execution_count": 49,
     "metadata": {},
     "output_type": "execute_result"
    }
   ],
   "source": [
    "X[:,1]\n"
   ]
  }
 ],
 "metadata": {
  "kernelspec": {
   "display_name": "Python 3",
   "language": "python",
   "name": "python3"
  },
  "language_info": {
   "codemirror_mode": {
    "name": "ipython",
    "version": 3
   },
   "file_extension": ".py",
   "mimetype": "text/x-python",
   "name": "python",
   "nbconvert_exporter": "python",
   "pygments_lexer": "ipython3",
   "version": "3.6.0"
  }
 },
 "nbformat": 4,
 "nbformat_minor": 2
}
