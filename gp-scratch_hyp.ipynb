{
 "cells": [
  {
   "cell_type": "markdown",
   "metadata": {},
   "source": [
    "## 参考\n",
    "\n",
    "* 式展開\n",
    "    * https://www.slideshare.net/KenjiUrai/explanation-of-gpr\n",
    "* ハイパーパラメータ\n",
    "    * https://qiita.com/ctgk/items/4c4607edf15072cddc46"
   ]
  },
  {
   "cell_type": "code",
   "execution_count": 1,
   "metadata": {
    "collapsed": true
   },
   "outputs": [],
   "source": [
    "import random\n",
    "import numpy as np\n",
    "import matplotlib.pyplot as plt\n",
    "%matplotlib inline"
   ]
  },
  {
   "cell_type": "code",
   "execution_count": 52,
   "metadata": {
    "collapsed": true
   },
   "outputs": [],
   "source": [
    "inv = lambda X: np.linalg.inv(X)\n",
    "\n",
    "norm = lambda x: np.linalg.norm(x)\n",
    "\n",
    "def kernel(x, y, a=1, b=1):\n",
    "    return a*np.exp(-b*0.5*norm(x-y)**2)\n",
    "\n",
    "def K(X, a=1, b=1):\n",
    "    N = X.shape[1]\n",
    "    KM = np.zeros((N,N))\n",
    "    for i in range(N):\n",
    "        for j in range(N):\n",
    "            KM[i,j] = kernel(X[:,i],X[:,j],a, b) \n",
    "    return KM\n",
    "\n",
    "def k(X_h, X, a=1, b=1):\n",
    "    N_h, N = X_h.shape[1], X.shape[1]\n",
    "    kM = np.zeros((N,N_h))\n",
    "    for i in range(N):\n",
    "        for j in range(N_h):\n",
    "            kM[i,j] = kernel(X_h[:,j], X[:,i],a, b) \n",
    "    return kM\n",
    "\n",
    "def k_(X, a=1, b=1):\n",
    "    N = X.shape[1]\n",
    "    kv = np.zeros((N,1))\n",
    "    for i in range(N):\n",
    "        kv[i,0] = kernel(X[:,i], X[:,i], a, b)\n",
    "    return kv\n",
    "\n",
    "def grad(X, a=1, b=1):\n",
    "    N = X.shape[1]\n",
    "    GA, GB = np.zeros((N,N)), np.zeros((N,N))\n",
    "    for i in range(N):\n",
    "        for j in range(N):\n",
    "            diff = norm(X[:,i]-X[:,j])**2\n",
    "            GA[i,j] = np.exp(-0.5*b*diff)\n",
    "            GB[i,j] = -0.5*a*b*diff*GA[i,j]\n",
    "    return GA, GB\n",
    "\n",
    "update = lambda y, C, G: -0.5*np.trace(C.dot(G))+0.5*y.T.dot(C.dot(G.dot(C.dot(y))))\n",
    "\n",
    "\"\"\"\n",
    "sg = 1 # yの分散(適当)\n",
    "a, b = 1, 1 # カーネルのパラメータ(適当)\n",
    "lr = 0.1 # 学習率(適当)\n",
    "\"\"\"\n",
    "def train(X, Xh, y, sg=1, a=1, b=1, lr=0.1, epoch=50):\n",
    "    for i in range(epoch):\n",
    "        # カーネル計算\n",
    "        Cm = inv(K(X, a, b)+sg*np.eye(X.shape[1],X.shape[1]))\n",
    "        kv = k(Xh, X, a, b)\n",
    "        kh = k_(Xh, a, b)\n",
    "    \n",
    "        # ハイパーパラメータの更新\n",
    "        GA, GB = grad(X, a, b)\n",
    "        a += lr*update(y, Cm, GA)\n",
    "        b += lr*update(y, Cm, GB)\n",
    "        print(a, b)\n",
    "    \n",
    "    # 平均値と分散\n",
    "    yh_mean = kv.T.dot(Cm).dot(y)\n",
    "    yh_std = np.sqrt(kh - np.diag(kv.T.dot(Cm).dot(kv)).reshape(-1,1))\n",
    "    \n",
    "    return yh_mean, yh_std"
   ]
  },
  {
   "cell_type": "code",
   "execution_count": 9,
   "metadata": {
    "collapsed": true
   },
   "outputs": [],
   "source": [
    "num = 100\n",
    "data = np.array([np.linspace(0,2*np.pi,num),np.linspace(0,2*np.pi,num)])\n",
    "target = np.sin(data[0,:])+np.cos(data[1,:])+np.random.rand(data.shape[1])\n",
    "\n",
    "# 学習用データ\n",
    "sample_num = 25\n",
    "sample = random.sample(range(data.shape[1]),k=data.shape[1])\n",
    "X = data[0:2, sample[:sample_num]]\n",
    "y = target[sample[:sample_num]].reshape(-1,1)\n",
    "\n",
    "# 予測用データ\n",
    "Xh = data"
   ]
  },
  {
   "cell_type": "code",
   "execution_count": 10,
   "metadata": {},
   "outputs": [
    {
     "name": "stdout",
     "output_type": "stream",
     "text": [
      "[[ 0.96562122]] [[ 0.90286454]]\n",
      "[[ 0.94054861]] [[ 0.81257937]]\n",
      "[[ 0.92411342]] [[ 0.72982676]]\n",
      "[[ 0.91535801]] [[ 0.65525753]]\n",
      "[[ 0.91317545]] [[ 0.58938037]]\n",
      "[[ 0.91642535]] [[ 0.53245138]]\n",
      "[[ 0.92400153]] [[ 0.48439688]]\n",
      "[[ 0.93486055]] [[ 0.44479566]]\n",
      "[[ 0.94803443]] [[ 0.41292122]]\n",
      "[[ 0.96264599]] [[ 0.38782425]]\n",
      "[[ 0.97793173]] [[ 0.36843305]]\n",
      "[[ 0.99326617]] [[ 0.35365691]]\n",
      "[[ 1.00817669]] [[ 0.34247797]]\n",
      "[[ 1.02234165]] [[ 0.33401647]]\n",
      "[[ 1.03557185]] [[ 0.32756062]]\n",
      "[[ 1.04778192]] [[ 0.32256476]]\n",
      "[[ 1.05895992]] [[ 0.31862727]]\n",
      "[[ 1.06914065]] [[ 0.31546068]]\n",
      "[[ 1.07838529]] [[ 0.31286256]]\n",
      "[[ 1.08676734]] [[ 0.31069119]]\n",
      "[[ 1.09436362]] [[ 0.30884709]]\n",
      "[[ 1.10124904]] [[ 0.30725969]]\n",
      "[[ 1.10749383]] [[ 0.30587813]]\n",
      "[[ 1.11316231]] [[ 0.30466501]]\n",
      "[[ 1.11831257]] [[ 0.30359219]]\n",
      "[[ 1.12299666]] [[ 0.302638]]\n",
      "[[ 1.12726102]] [[ 0.30178538]]\n",
      "[[ 1.13114699]] [[ 0.30102062]]\n",
      "[[ 1.13469137]] [[ 0.30033252]]\n",
      "[[ 1.13792696]] [[ 0.29971174]]\n",
      "[[ 1.14088301]] [[ 0.29915043]]\n",
      "[[ 1.14358565]] [[ 0.29864192]]\n",
      "[[ 1.14605827]] [[ 0.29818045]]\n",
      "[[ 1.14832186]] [[ 0.29776106]]\n",
      "[[ 1.15039526]] [[ 0.29737939]]\n",
      "[[ 1.15229545]] [[ 0.29703166]]\n",
      "[[ 1.15403774]] [[ 0.29671451]]\n",
      "[[ 1.15563594]] [[ 0.29642499]]\n",
      "[[ 1.15710255]] [[ 0.29616045]]\n",
      "[[ 1.15844892]] [[ 0.29591857]]\n",
      "[[ 1.1596853]] [[ 0.29569724]]\n",
      "[[ 1.16082105]] [[ 0.2954946]]\n",
      "[[ 1.16186464]] [[ 0.29530895]]\n",
      "[[ 1.1628238]] [[ 0.29513879]]\n",
      "[[ 1.16370557]] [[ 0.29498275]]\n",
      "[[ 1.16451639]] [[ 0.2948396]]\n",
      "[[ 1.16526209]] [[ 0.29470821]]\n",
      "[[ 1.16594805]] [[ 0.29458759]]\n",
      "[[ 1.16657915]] [[ 0.2944768]]\n",
      "[[ 1.16715987]] [[ 0.29437503]]\n"
     ]
    },
    {
     "data": {
      "text/plain": [
       "<matplotlib.collections.PolyCollection at 0x1af5c90b438>"
      ]
     },
     "execution_count": 10,
     "metadata": {},
     "output_type": "execute_result"
    },
    {
     "data": {
      "image/png": "[encoded data removed]",
      "text/plain": [
       "<matplotlib.figure.Figure at 0x1af5beeccc0>"
      ]
     },
     "metadata": {},
     "output_type": "display_data"
    }
   ],
   "source": [
    "# 学習(パラメータは適当)\n",
    "yh_mean, yh_std = train(X, Xh, y)\n",
    "\n",
    "# plot\n",
    "plt.plot(Xh[0,:],yh_mean,c=\"red\")\n",
    "plt.scatter(X[0,:], y)\n",
    "plt.fill_between(Xh[0,:], (yh_mean-yh_std).reshape(-1,), (yh_mean+yh_std).reshape(-1,), alpha=0.5)"
   ]
  },
  {
   "cell_type": "code",
   "execution_count": 13,
   "metadata": {},
   "outputs": [],
   "source": [
    "from sklearn.datasets import load_boston"
   ]
  },
  {
   "cell_type": "code",
   "execution_count": 68,
   "metadata": {},
   "outputs": [
    {
     "data": {
      "text/plain": [
       "<matplotlib.collections.PathCollection at 0x1af5de83908>"
      ]
     },
     "execution_count": 68,
     "metadata": {},
     "output_type": "execute_result"
    },
    {
     "data": {
      "image/png": "[encoded data removed]",
      "text/plain": [
       "<matplotlib.figure.Figure at 0x1af5e0ccdd8>"
      ]
     },
     "metadata": {},
     "output_type": "display_data"
    }
   ],
   "source": [
    "data = load_boston().data.T\n",
    "length= 100\n",
    "X = np.array([data[1,:length],data[4,:length]])\n",
    "y = load_boston().target[:length].reshape(-1,1)\n",
    "y = (y-y.mean())/y.std() # 平均をゼロに?\n",
    "num = 100\n",
    "Xh = np.array([np.linspace(X[0].min(),X[0].max(),num),np.linspace(X[1].min(),X[1].max(),num)])\n",
    "plt.scatter(X[0], y)\n",
    "\n",
    "#np.linspace(X[0].min(),X[0].max(),num)"
   ]
  },
  {
   "cell_type": "code",
   "execution_count": 69,
   "metadata": {},
   "outputs": [
    {
     "name": "stdout",
     "output_type": "stream",
     "text": [
      "[[ 0.85316084]] [[ 1.0949906]]\n",
      "[[ 0.69787379]] [[ 1.18499929]]\n",
      "[[ 0.52906486]] [[ 1.26654196]]\n",
      "[[ 0.33613138]] [[ 1.33487813]]\n",
      "[[ 0.08856989]] [[ 1.3827914]]\n",
      "[[-0.45871591]] [[ 1.39658497]]\n",
      "[[ 12.16201938]] [[ 1.58634167]]\n",
      "[[ 12.13283438]] [[ 1.7323416]]\n",
      "[[ 12.10272518]] [[ 1.86860226]]\n",
      "[[ 12.07179505]] [[ 1.99640798]]\n",
      "[[ 12.04012992]] [[ 2.11682809]]\n",
      "[[ 12.00780129]] [[ 2.23075314]]\n",
      "[[ 11.97486891]] [[ 2.33892853]]\n",
      "[[ 11.94138306]] [[ 2.44198251]]\n",
      "[[ 11.90738627]] [[ 2.54044858]]\n",
      "[[ 11.87291486]] [[ 2.63478317]]\n",
      "[[ 11.83799997]] [[ 2.72537965]]\n",
      "[[ 11.80266851]] [[ 2.81257938]]\n",
      "[[ 11.76694385]] [[ 2.89668043]]\n",
      "[[ 11.73084639]] [[ 2.97794471]]\n"
     ]
    }
   ],
   "source": [
    "# 学習(パラメータは適当)\n",
    "yh_mean, yh_std = train(X, Xh, y, epoch=20)"
   ]
  },
  {
   "cell_type": "code",
   "execution_count": 70,
   "metadata": {},
   "outputs": [
    {
     "name": "stdout",
     "output_type": "stream",
     "text": [
      "(100,) (100, 1)\n"
     ]
    },
    {
     "data": {
      "text/plain": [
       "<matplotlib.collections.PolyCollection at 0x1af5da386a0>"
      ]
     },
     "execution_count": 70,
     "metadata": {},
     "output_type": "execute_result"
    },
    {
     "data": {
      "image/png": "[encoded data removed]",
      "text/plain": [
       "<matplotlib.figure.Figure at 0x1af61d92908>"
      ]
     },
     "metadata": {},
     "output_type": "display_data"
    }
   ],
   "source": [
    "print(Xh[0,:].shape,y.shape)\n",
    "\n",
    "# plot\n",
    "idx = 1\n",
    "plt.plot(Xh[idx,:],yh_mean,c=\"red\")\n",
    "plt.scatter(X[idx,:], y)\n",
    "plt.fill_between(Xh[idx,:], (yh_mean-yh_std).reshape(-1,), (yh_mean+yh_std).reshape(-1,), alpha=0.5)"
   ]
  }
 ],
 "metadata": {
  "kernelspec": {
   "display_name": "Python 3",
   "language": "python",
   "name": "python3"
  },
  "language_info": {
   "codemirror_mode": {
    "name": "ipython",
    "version": 3
   },
   "file_extension": ".py",
   "mimetype": "text/x-python",
   "name": "python",
   "nbconvert_exporter": "python",
   "pygments_lexer": "ipython3",
   "version": "3.6.0"
  }
 },
 "nbformat": 4,
 "nbformat_minor": 2
}
