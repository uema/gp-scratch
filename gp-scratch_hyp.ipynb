{
 "cells": [
  {
   "cell_type": "markdown",
   "metadata": {},
   "source": [
    "## 参考\n",
    "\n",
    "* https://www.slideshare.net/KenjiUrai/explanation-of-gpr\n",
    "    * 式の展開\n",
    "    * カーネルを使う"
   ]
  },
  {
   "cell_type": "code",
   "execution_count": 6,
   "metadata": {
    "collapsed": true
   },
   "outputs": [],
   "source": [
    "import random\n",
    "\n",
    "import numpy as np\n",
    "import matplotlib.pyplot as plt\n",
    "%matplotlib inline\n",
    "\n",
    "from sklearn.datasets import load_iris"
   ]
  },
  {
   "cell_type": "code",
   "execution_count": 22,
   "metadata": {},
   "outputs": [],
   "source": [
    "def inv(X):\n",
    "    return np.linalg.inv(X)\n",
    "\n",
    "def norm(x):\n",
    "    return np.linalg.norm(x)\n",
    "\n",
    "def kernel(x, y, a=1, b=1):\n",
    "    return a*np.exp(-b*0.5*norm(x-y)**2)\n",
    "\n",
    "def K(X, a=1, b=1):\n",
    "    N = X.shape[1]\n",
    "    KM = np.zeros((N,N))\n",
    "    for i in range(N):\n",
    "        for j in range(N):\n",
    "            KM[i,j] = kernel(X[:,i],X[:,j],a, b) \n",
    "    return KM\n",
    "\n",
    "def k(X_h, X, a=1, b=1):\n",
    "    N_h, N = X_h.shape[1], X.shape[1]\n",
    "    kM = np.zeros((N,N_h))\n",
    "    for i in range(N):\n",
    "        for j in range(N_h):\n",
    "            kM[i,j] = kernel(X_h[:,j], X[:,i],a, b) \n",
    "    return kM\n",
    "\n",
    "def k_(X, a=1, b=1):\n",
    "    N = X.shape[1]\n",
    "    kv = np.zeros((N,1))\n",
    "    for i in range(N):\n",
    "        kv[i,0] = kernel(X[:,i], X[:,i], a, b)\n",
    "    return kv\n",
    "\n",
    "def grad(X, a=1, b=1):\n",
    "    N = X.shape[1]\n",
    "    GA, GB = np.zeros((N,N)), np.zeros((N,N))\n",
    "    for i in range(N):\n",
    "        for j in range(N):\n",
    "            diff = norm(X[:,i]-X[:,j])**2\n",
    "            GA[i,j] = np.exp(-0.5*b*diff)\n",
    "            GB[i,j] = -0.5*a*b*diff*GA[i,j]\n",
    "    return GA, GB\n",
    "\n",
    "def update(y, C, G):\n",
    "    return -0.5*np.trace(C.dot(G))+0.5*y.T.dot(C.dot(G.dot(C.dot(y))))"
   ]
  },
  {
   "cell_type": "code",
   "execution_count": 28,
   "metadata": {},
   "outputs": [],
   "source": [
    "# data,target= load_iris().data,load_iris().target\n",
    "# print(data.shape, target.shape)\n",
    "# plt.subplot(121)\n",
    "# plt.scatter(data[:,0], target)\n",
    "# plt.subplot(122)\n",
    "# plt.scatter(data[:,1], target)\n",
    "num = 100\n",
    "data = np.array([np.linspace(0,2*np.pi,num),np.linspace(0,2*np.pi,num)]).T\n",
    "target = np.sin(data[:,0])+np.cos(data[:,1])+np.random.rand(len(data))\n",
    "\n",
    "sample = random.sample(range(len(data)),k=len(data))\n",
    "sample_num = 25\n",
    "X = data[sample[:sample_num],0:2].T.reshape(2,-1)\n",
    "y = target[sample[:sample_num]].reshape(-1,1)"
   ]
  },
  {
   "cell_type": "code",
   "execution_count": 29,
   "metadata": {},
   "outputs": [
    {
     "name": "stdout",
     "output_type": "stream",
     "text": [
      "[[ 2.87756151]] [[ 2.75389478]]\n",
      "[[ 2.7558849]] [[ 2.51329675]]\n",
      "[[ 2.63524094]] [[ 2.27842961]]\n",
      "[[ 2.51595189]] [[ 2.04955053]]\n",
      "[[ 2.39840464]] [[ 1.8269929]]\n",
      "[[ 2.28306661]] [[ 1.6112129]]\n",
      "[[ 2.17050578]] [[ 1.40283573]]\n",
      "[[ 2.06141893]] [[ 1.20272111]]\n",
      "[[ 1.95666917]] [[ 1.01207955]]\n",
      "[[ 1.85731957]] [[ 0.83258759]]\n",
      "[[ 1.76464532]] [[ 0.66633792]]\n",
      "[[ 1.68016337]] [[ 0.51571573]]\n",
      "[[ 1.60579816]] [[ 0.38394784]]\n",
      "[[ 1.54421405]] [[ 0.27704444]]\n",
      "[[ 1.49874938]] [[ 0.20613907]]\n",
      "[[ 1.46990181]] [[ 0.17916264]]\n",
      "[[ 1.44966922]] [[ 0.17654994]]\n",
      "[[ 1.43105348]] [[ 0.17746976]]\n",
      "[[ 1.41295355]] [[ 0.17853492]]\n",
      "[[ 1.39533498]] [[ 0.17959639]]\n",
      "[[ 1.37820931]] [[ 0.18064679]]\n",
      "[[ 1.36158875]] [[ 0.18168411]]\n",
      "[[ 1.34548424]] [[ 0.1827066]]\n",
      "[[ 1.32990527]] [[ 0.18371256]]\n",
      "[[ 1.31485978]] [[ 0.18470031]]\n",
      "[[ 1.30035404]] [[ 0.18566825]]\n",
      "[[ 1.28639259]] [[ 0.18661482]]\n",
      "[[ 1.27297818]] [[ 0.18753859]]\n",
      "[[ 1.26011169]] [[ 0.18843818]]\n",
      "[[ 1.24779221]] [[ 0.18931238]]\n",
      "[[ 1.23601694]] [[ 0.19016007]]\n",
      "[[ 1.2247813]] [[ 0.19098029]]\n",
      "[[ 1.21407895]] [[ 0.19177222]]\n",
      "[[ 1.20390189]] [[ 0.19253519]]\n",
      "[[ 1.19424054]] [[ 0.19326868]]\n",
      "[[ 1.18508385]] [[ 0.19397236]]\n",
      "[[ 1.17641946]] [[ 0.19464602]]\n",
      "[[ 1.1682338]] [[ 0.19528962]]\n",
      "[[ 1.16051229]] [[ 0.19590327]]\n",
      "[[ 1.15323944]] [[ 0.1964872]]\n",
      "[[ 1.14639904]] [[ 0.1970418]]\n",
      "[[ 1.13997434]] [[ 0.19756756]]\n",
      "[[ 1.13394812]] [[ 0.19806508]]\n",
      "[[ 1.12830294]] [[ 0.19853505]]\n",
      "[[ 1.12302119]] [[ 0.19897827]]\n",
      "[[ 1.11808528]] [[ 0.19939558]]\n",
      "[[ 1.1134777]] [[ 0.19978789]]\n",
      "[[ 1.10918119]] [[ 0.20015616]]\n",
      "[[ 1.10517877]] [[ 0.20050137]]\n",
      "[[ 1.10145387]] [[ 0.20082455]]\n"
     ]
    },
    {
     "data": {
      "text/plain": [
       "<matplotlib.collections.PolyCollection at 0x247c11d2f28>"
      ]
     },
     "execution_count": 29,
     "metadata": {},
     "output_type": "execute_result"
    },
    {
     "data": {
      "image/png": "[encoded data removed]",
      "text/plain": [
       "<matplotlib.figure.Figure at 0x247bfcde358>"
      ]
     },
     "metadata": {},
     "output_type": "display_data"
    }
   ],
   "source": [
    "X_h = np.array([np.linspace(0,2*np.pi,num),np.linspace(0,2*np.pi,num)])\n",
    "\n",
    "sg = 1\n",
    "a, b = 3, 3\n",
    "lr = 0.1\n",
    "\n",
    "for i in range(50):\n",
    "    # カーネル計算\n",
    "    C_M = inv(K(X, a, b)+sg*np.eye(X.shape[1],X.shape[1]))\n",
    "    k_M = k(X_h, X, a, b)\n",
    "    k_V = k_(X_h, a, b)\n",
    "    \n",
    "    # ハイパーパラメータの更新\n",
    "    GA, GB = grad(X, a, b)\n",
    "    a += lr*update(y, C_M, GA)\n",
    "    b += lr*update(y, C_M, GB)\n",
    "    print(a, b)\n",
    "    \n",
    "# 平均値と分布\n",
    "yh_mean = k_M.T.dot(C_M).dot(y)\n",
    "yh_std = np.sqrt(k_V - np.diag(k_M.T.dot(C_M).dot(k_M)).reshape(-1,1))\n",
    "\n",
    "# plot\n",
    "plt.plot(X_h[0,:],yh_mean,c=\"red\")\n",
    "plt.scatter(X[0,:], y)\n",
    "plt.fill_between(X_h[0,:], (yh_mean-yh_std).reshape(-1,), (yh_mean+yh_std).reshape(-1,), alpha=0.5)"
   ]
  },
  {
   "cell_type": "code",
   "execution_count": null,
   "metadata": {
    "collapsed": true
   },
   "outputs": [],
   "source": []
  }
 ],
 "metadata": {
  "kernelspec": {
   "display_name": "Python 3",
   "language": "python",
   "name": "python3"
  },
  "language_info": {
   "codemirror_mode": {
    "name": "ipython",
    "version": 3
   },
   "file_extension": ".py",
   "mimetype": "text/x-python",
   "name": "python",
   "nbconvert_exporter": "python",
   "pygments_lexer": "ipython3",
   "version": "3.6.0"
  }
 },
 "nbformat": 4,
 "nbformat_minor": 2
}
