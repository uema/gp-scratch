{
 "cells": [
  {
   "cell_type": "markdown",
   "metadata": {},
   "source": [
    "# ガウス過程回帰\n",
    "\n",
    "## 目標\n",
    "* スクラッチで書く\n",
    "* juliaを使ってみる\n",
    "\n",
    "## 参考\n",
    "* 式の展開\n",
    "    * https://www.slideshare.net/KenjiUrai/explanation-of-gpr\n",
    "* ハイパーパラメータ\n",
    "    * https://qiita.com/ctgk/items/4c4607edf15072cddc46"
   ]
  },
  {
   "cell_type": "code",
   "execution_count": 4,
   "metadata": {},
   "outputs": [
    {
     "name": "stdout",
     "output_type": "stream",
     "text": [
      "hello world\n"
     ]
    }
   ],
   "source": [
    "hw=\"hello world\"\n",
    "println(hw)"
   ]
  },
  {
   "cell_type": "code",
   "execution_count": null,
   "metadata": {
    "collapsed": true
   },
   "outputs": [],
   "source": []
  }
 ],
 "metadata": {
  "kernelspec": {
   "display_name": "Julia 0.6.0",
   "language": "julia",
   "name": "julia-0.6"
  },
  "language_info": {
   "file_extension": ".jl",
   "mimetype": "application/julia",
   "name": "julia",
   "version": "0.6.0"
  }
 },
 "nbformat": 4,
 "nbformat_minor": 2
}
