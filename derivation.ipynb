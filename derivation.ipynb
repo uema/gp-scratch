{
 "cells": [
  {
   "cell_type": "markdown",
   "metadata": {},
   "source": [
    "ガウス過程の式を導出する\n",
    "\n",
    "$\\boldsymbol{y}$は(N, 1)のベクトル\n",
    "\n",
    "$y_i$はスカラー\n",
    "\n",
    "$\\boldsymbol{X}$は(N, D)の行列\n",
    "\n",
    "$\\boldsymbol{x_i}$は(1, D)のベクトル\n",
    "\n",
    "$\\boldsymbol{w}$は(1, D)のベクトル\n",
    "\n",
    "とおく"
   ]
  },
  {
   "cell_type": "markdown",
   "metadata": {},
   "source": [
    "$$\n",
    "\\begin{align*}\n",
    "p(\\boldsymbol{y}|\\boldsymbol{X},\\boldsymbol{w}) &= \\prod_{i=1}^N p(y_i|\\boldsymbol{x_i},\\boldsymbol{w})\\\\\n",
    "&= \\prod_{i=1}^N \\frac{1}{\\sqrt{2\\pi\\sigma^2}} \\exp{\\left(\\frac{-(y_i-\\boldsymbol{x_i}\\boldsymbol{w^T})^2}{2\\sigma^2}\\right)}\\\\\n",
    "&= \\left(\\frac{1}{\\sqrt{2\\pi\\sigma^2}}\\right)^N \\prod_{i=1}^N \\exp{\\left(\\frac{-(y_i-\\boldsymbol{x_i}\\boldsymbol{w^T})^2}{2\\sigma^2}\\right)}\\\\\n",
    "&= \\left(\\frac{1}{\\sqrt{2\\pi\\sigma^2}}\\right)^N \\exp{\\left( \\sum_{i=1}^N \\frac{-(y_i-\\boldsymbol{x_i}\\boldsymbol{w^T})^2}{2\\sigma^2}\\right)}\\\\\n",
    "&= \\left(\\frac{1}{\\sqrt{2\\pi\\sigma^2}}\\right)^N \\exp{\\left\\{-\\frac{1}{2\\sigma^2} \\left((y_1-\\boldsymbol{x_1}\\boldsymbol{w^T})^2+...+(y_N-\\boldsymbol{x_N}\\boldsymbol{w^T})^2\\right) \\right\\}}\\\\\n",
    "\\end{align*}\n",
    "$$"
   ]
  },
  {
   "cell_type": "markdown",
   "metadata": {},
   "source": [
    "ここで, ベクトル $\\boldsymbol{a}=(\\begin{array}{cccc} a_1 & a_2 & ... &a_N \\end{array} )$ のL2ノルムは $\\|\\boldsymbol{a}\\| = \\sqrt{a_1^2+a_2^2+...+a_N^2}$ なので\n",
    "\n",
    "$a_1^2+a_2^2+...+a_N^2 = \\|\\boldsymbol{a}\\|^2 = \\|\\begin{array}{cccc} a_1 & a_2 & ... &a_N \\end{array}\\|^2$ とおいて"
   ]
  },
  {
   "cell_type": "markdown",
   "metadata": {},
   "source": [
    "$$\n",
    "\\begin{align*}\n",
    "p(\\boldsymbol{y}|\\boldsymbol{X},\\boldsymbol{w}) &= \\left(\\frac{1}{\\sqrt{2\\pi\\sigma^2}}\\right)^N \\exp{\\left\\{-\\frac{1}{2\\sigma^2} \\|\\left(\\begin{array}{ccc}y_1-\\boldsymbol{x_1}\\boldsymbol{w^T}&...&y_N-\\boldsymbol{x_N}\\boldsymbol{w^T}\\end{array}\\right)\\|^2 \\right\\}}\\\\\n",
    "&= \\left(\\frac{1}{\\sqrt{2\\pi\\sigma^2}}\\right)^N \\exp{\\left\\{-\\frac{1}{2\\sigma^2} \\|(\\begin{array}{ccc}y_1&...&y_N\\end{array}) - (\\begin{array}{ccc}\\boldsymbol{x_1}\\boldsymbol{w^T}&...&\\boldsymbol{x_N}\\boldsymbol{w^T}\\end{array})\\|^2 \\right\\}}\\\\\n",
    "&= \\left(\\frac{1}{\\sqrt{2\\pi\\sigma^2}}\\right)^N \\exp{\\left\\{-\\frac{1}{2\\sigma^2} \\|\\boldsymbol{y^T} - \\boldsymbol{w}(\\begin{array}{ccc}\\boldsymbol{x_1^T}&...&\\boldsymbol{x_N^T}\\end{array})\\|^2 \\right\\}}\\\\\n",
    "&= \\left(\\frac{1}{\\sqrt{2\\pi\\sigma^2}}\\right)^N \\exp{\\left\\{-\\frac{1}{2\\sigma^2} \\|\\boldsymbol{y^T} - \\boldsymbol{w}\\boldsymbol{X^T}\\|^2 \\right\\}}\\\\\n",
    "\\end{align*}\n",
    "$$"
   ]
  },
  {
   "cell_type": "markdown",
   "metadata": {},
   "source": [
    "また, $\\|\\boldsymbol{a}\\|^2=a_1^2+a_2^2+...+a_N^2 = \\boldsymbol{a}\\boldsymbol{a^T}$ と表せるので"
   ]
  },
  {
   "cell_type": "markdown",
   "metadata": {},
   "source": [
    "$$\n",
    "\\begin{align*}\n",
    "p(\\boldsymbol{y}|\\boldsymbol{X},\\boldsymbol{w}) &= \\left(\\frac{1}{\\sqrt{2\\pi\\sigma^2}}\\right)^N \\exp{\\left\\{-\\frac{1}{2\\sigma^2} \\left(\\boldsymbol{y^T} - \\boldsymbol{w}\\boldsymbol{X^T}\\right)\\left(\\boldsymbol{y^T} - \\boldsymbol{w}\\boldsymbol{X^T}\\right)^T \\right\\}}\\\\\n",
    "&= \\left(\\frac{1}{\\sqrt{2\\pi\\sigma^2}}\\right)^N \\exp{\\left\\{-\\frac{1}{2\\sigma^2} \\left(\\boldsymbol{y} - \\boldsymbol{X}\\boldsymbol{w^T}\\right)^T\\left(\\boldsymbol{y} - \\boldsymbol{X}\\boldsymbol{w^T}\\right) \\right\\}}\\\\\n",
    "&= \\left(\\frac{1}{\\left(\\sqrt{2\\pi}\\right)^N\\sqrt{|\\sigma^2\\boldsymbol{I}|}}\\right) \\exp{\\left\\{ -\\frac{1}{2} \\left(\\boldsymbol{y} - \\boldsymbol{X}\\boldsymbol{w^T}\\right)^T \\left(\\sigma^2 \\boldsymbol{I} \\right)^{-1} \\left(\\boldsymbol{y} - \\boldsymbol{X}\\boldsymbol{w^T}\\right) \\right\\}}\n",
    "\\end{align*}\n",
    "$$"
   ]
  },
  {
   "cell_type": "markdown",
   "metadata": {},
   "source": [
    "よって,$\\boldsymbol{y}$ の事後分布は平均$\\boldsymbol{X}\\boldsymbol{w^T}$ 分散$\\sigma^2\\boldsymbol{I}$ の多次元ガウス分布となる\n",
    "\n",
    "ちなみに多次元ガウス分布の式は以下\n",
    "\n",
    "$$\n",
    "\n",
    "$$"
   ]
  },
  {
   "cell_type": "markdown",
   "metadata": {},
   "source": [
    "ここで, パラメータ$\\boldsymbol{w}$を求めたい\n",
    "\n",
    "$\\boldsymbol{w} \\sim N(0,\\Sigma)$\n",
    "\n",
    "ベイズの定理より"
   ]
  },
  {
   "cell_type": "markdown",
   "metadata": {},
   "source": [
    "\n",
    "\\begin{align*}\n",
    "p(\\boldsymbol{w}|\\boldsymbol{X},\\boldsymbol{y}) &= \\frac{p(\\boldsymbol{y}|\\boldsymbol{X},\\boldsymbol{w})p(\\boldsymbol{w})}{p(\\boldsymbol{X},\\boldsymbol{y})}\\\\\n",
    "&\\propto p(\\boldsymbol{y}|\\boldsymbol{X},\\boldsymbol{w})p(\\boldsymbol{w})\\\\\n",
    "&= \\left(\\frac{1}{\\left(\\sqrt{2\\pi}\\right)^N\\sqrt{|\\sigma^2\\boldsymbol{I}|}}\\right) \\exp{\\left\\{ -\\frac{1}{2} \\left(\\boldsymbol{y} - \\boldsymbol{Xw^T}\\right)^T \\left(\\sigma^2 \\boldsymbol{I} \\right)^{-1} \\left(\\boldsymbol{y} - \\boldsymbol{Xw^T}\\right) \\right\\}} \\left(\\frac{1}{\\left(\\sqrt{2\\pi}\\right)^D\\sqrt{|\\boldsymbol{\\Sigma}|}}\\right) \\exp{\\left(-\\frac{1}{2} \\boldsymbol{w\\Sigma^{-1}w^T} \\right)}\\\\\n",
    "&\\propto \\exp{\\left\\{ -\\frac{1}{2} \\left(\\boldsymbol{y} - \\boldsymbol{Xw^T}\\right)^T \\left(\\sigma^2 \\boldsymbol{I} \\right)^{-1} \\left(\\boldsymbol{y} - \\boldsymbol{Xw^T}\\right) \\right\\}\\left(-\\frac{1}{2} \\boldsymbol{w\\Sigma^{-1}w^T} \\right)}\\\\\n",
    "&= \\exp{\\left\\{ -\\frac{1}{2} \\left( \\left( \\boldsymbol{y} - \\boldsymbol{X}\\boldsymbol{w^T}\\right)^T \\left(\\sigma^2 \\boldsymbol{I} \\right)^{-1} \\left(\\boldsymbol{y} - \\boldsymbol{Xw^T}\\right)+\\boldsymbol{w\\Sigma^{-1}w^T} \\right) \\right\\} }\\\\\n",
    "&= \\exp{\\left\\{ -\\frac{1}{2} \\left( \\frac{1}{\\sigma^2}\\left( \\boldsymbol{y} - \\boldsymbol{Xw^T}\\right)^T \\left(\\boldsymbol{y} - \\boldsymbol{Xw^T}\\right)+\\boldsymbol{w\\Sigma^{-1}w^T} \\right) \\right\\} }\\\\\n",
    "&= \\exp{\\left\\{ -\\frac{1}{2} \\left( \\frac{1}{\\sigma^2} \\left( \\boldsymbol{y^T} - \\boldsymbol{wX^T}\\right) \\left(\\boldsymbol{y} - \\boldsymbol{Xw^T}\\right)+\\boldsymbol{w\\Sigma^{-1}w^T} \\right) \\right\\} }\\\\\n",
    "&= \\exp{\\left\\{ -\\frac{1}{2} \\left( \\frac{1}{\\sigma^2} \\left( \\boldsymbol{y^T} - \\boldsymbol{wX^T}\\right)\\boldsymbol{y} - \\left( \\boldsymbol{y^T} - \\boldsymbol{wX^T}\\right) \\boldsymbol{Xw^T} +\\boldsymbol{w\\Sigma^{-1}w^T} \\right) \\right\\} }\\\\\n",
    "&= \\exp{\\left\\{ -\\frac{1}{2} \\left( \\frac{1}{\\sigma^2} \\left(\\boldsymbol{y^Ty}-\\boldsymbol{wX^Ty}-\\boldsymbol{y^TXw^T}+\\boldsymbol{wX^TXw^T}\\right) +\\boldsymbol{w\\Sigma^{-1}w^T} \\right) \\right\\} }\\\\\n",
    "&= \\exp{\\left\\{ -\\frac{1}{2} \\left( \\frac{1}{\\sigma^2} \\left(\\boldsymbol{y^Ty}-\\boldsymbol{wX^Ty}-\\boldsymbol{y^TXw^T}\\right)+ \\frac{1}{\\sigma^2}\\boldsymbol{wX^TXw^T}+\\boldsymbol{w\\Sigma^{-1}w^T} \\right) \\right\\} }\\\\\n",
    "&= \\exp{\\left\\{ -\\frac{1}{2} \\left( \\boldsymbol{w} \\left( \\frac{1}{\\sigma^2}\\boldsymbol{X^TX}+\\boldsymbol{\\Sigma^{-1}} \\right) \\boldsymbol{w^T}-\\frac{1}{\\sigma^2}\\left(\\boldsymbol{wX^Ty}+\\boldsymbol{y^TXw^T}\\right)-\\frac{1}{\\sigma^2}\\boldsymbol{y^Ty} \\right) \\right\\}}\n",
    "\\end{align*}\n"
   ]
  },
  {
   "cell_type": "code",
   "execution_count": null,
   "metadata": {},
   "outputs": [],
   "source": []
  },
  {
   "cell_type": "code",
   "execution_count": null,
   "metadata": {},
   "outputs": [],
   "source": []
  },
  {
   "cell_type": "code",
   "execution_count": null,
   "metadata": {},
   "outputs": [],
   "source": []
  }
 ],
 "metadata": {
  "kernelspec": {
   "display_name": "Python 3",
   "language": "python",
   "name": "python3"
  },
  "language_info": {
   "codemirror_mode": {
    "name": "ipython",
    "version": 3
   },
   "file_extension": ".py",
   "mimetype": "text/x-python",
   "name": "python",
   "nbconvert_exporter": "python",
   "pygments_lexer": "ipython3",
   "version": "3.6.0"
  }
 },
 "nbformat": 4,
 "nbformat_minor": 2
}
