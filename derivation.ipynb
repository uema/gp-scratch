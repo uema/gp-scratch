{
 "cells": [
  {
   "cell_type": "markdown",
   "metadata": {},
   "source": [
    "## ガウス過程の式を導出する\n",
    "\n",
    "$\\boldsymbol{y}=f(\\boldsymbol{x})+\\boldsymbol{\\epsilon}$ ただし $f(\\boldsymbol{x}) = \\boldsymbol{xw^T}$\n",
    "\n",
    "$\\boldsymbol{y}$は(N, 1)のベクトル\n",
    "\n",
    "$y_i$はスカラー\n",
    "\n",
    "$\\boldsymbol{X}$は(N, D)の行列\n",
    "\n",
    "$\\boldsymbol{x_i}$は(1, D)のベクトル\n",
    "\n",
    "$\\boldsymbol{w}$は(1, D)のベクトル\n",
    "\n",
    "とおく\n",
    "\n",
    "まずは, ある観測データ $\\boldsymbol{X}$ が得られたとき, $\\boldsymbol{y}$ を取る確率 = 事後分布 を求める"
   ]
  },
  {
   "cell_type": "markdown",
   "metadata": {},
   "source": [
    "$$\n",
    "\\begin{align*}\n",
    "p(\\boldsymbol{y}|\\boldsymbol{X},\\boldsymbol{w}) &= \\prod_{i=1}^N p(y_i|\\boldsymbol{x_i},\\boldsymbol{w})\\\\\n",
    "&= \\prod_{i=1}^N \\frac{1}{\\sqrt{2\\pi\\sigma^2}} \\exp{\\left(\\frac{-(y_i-\\boldsymbol{x_i}\\boldsymbol{w^T})^2}{2\\sigma^2}\\right)}\\\\\n",
    "&= \\left(\\frac{1}{\\sqrt{2\\pi\\sigma^2}}\\right)^N \\prod_{i=1}^N \\exp{\\left(\\frac{-(y_i-\\boldsymbol{x_i}\\boldsymbol{w^T})^2}{2\\sigma^2}\\right)}\\\\\n",
    "&= \\left(\\frac{1}{\\sqrt{2\\pi\\sigma^2}}\\right)^N \\exp{\\left( \\sum_{i=1}^N \\frac{-(y_i-\\boldsymbol{x_i}\\boldsymbol{w^T})^2}{2\\sigma^2}\\right)}\\\\\n",
    "&= \\left(\\frac{1}{\\sqrt{2\\pi\\sigma^2}}\\right)^N \\exp{\\left\\{-\\frac{1}{2\\sigma^2} \\left((y_1-\\boldsymbol{x_1}\\boldsymbol{w^T})^2+...+(y_N-\\boldsymbol{x_N}\\boldsymbol{w^T})^2\\right) \\right\\}}\\\\\n",
    "\\end{align*}\n",
    "$$"
   ]
  },
  {
   "cell_type": "markdown",
   "metadata": {},
   "source": [
    "ここで, ベクトル $\\boldsymbol{a}=(\\begin{array}{cccc} a_1 & a_2 & ... &a_N \\end{array} )$ のL2ノルムは $\\|\\boldsymbol{a}\\| = \\sqrt{a_1^2+a_2^2+...+a_N^2}$ なので\n",
    "\n",
    "$a_1^2+a_2^2+...+a_N^2 = \\|\\boldsymbol{a}\\|^2 = \\|(\\begin{array}{cccc} a_1 & a_2 & ... &a_N \\end{array})\\|^2$ とおいて"
   ]
  },
  {
   "cell_type": "markdown",
   "metadata": {},
   "source": [
    "$$\n",
    "\\begin{align*}\n",
    "p(\\boldsymbol{y}|\\boldsymbol{X},\\boldsymbol{w}) &= \\left(\\frac{1}{\\sqrt{2\\pi\\sigma^2}}\\right)^N \\exp{\\left\\{-\\frac{1}{2\\sigma^2} \\|\\left(\\begin{array}{ccc}y_1-\\boldsymbol{x_1}\\boldsymbol{w^T}&...&y_N-\\boldsymbol{x_N}\\boldsymbol{w^T}\\end{array}\\right)\\|^2 \\right\\}}\\\\\n",
    "&= \\left(\\frac{1}{\\sqrt{2\\pi\\sigma^2}}\\right)^N \\exp{\\left\\{-\\frac{1}{2\\sigma^2} \\|(\\begin{array}{ccc}y_1&...&y_N\\end{array}) - (\\begin{array}{ccc}\\boldsymbol{x_1}\\boldsymbol{w^T}&...&\\boldsymbol{x_N}\\boldsymbol{w^T}\\end{array})\\|^2 \\right\\}}\\\\\n",
    "&= \\left(\\frac{1}{\\sqrt{2\\pi\\sigma^2}}\\right)^N \\exp{\\left\\{-\\frac{1}{2\\sigma^2} \\|\\boldsymbol{y^T} - \\boldsymbol{w}(\\begin{array}{ccc}\\boldsymbol{x_1^T}&...&\\boldsymbol{x_N^T}\\end{array})\\|^2 \\right\\}}\\\\\n",
    "&= \\left(\\frac{1}{\\sqrt{2\\pi\\sigma^2}}\\right)^N \\exp{\\left\\{-\\frac{1}{2\\sigma^2} \\|\\boldsymbol{y^T} - \\boldsymbol{w}\\boldsymbol{X^T}\\|^2 \\right\\}}\n",
    "\\end{align*}\n",
    "$$"
   ]
  },
  {
   "cell_type": "markdown",
   "metadata": {},
   "source": [
    "また, $\\|\\boldsymbol{a}\\|^2=a_1^2+a_2^2+...+a_N^2 = \\boldsymbol{a}\\boldsymbol{a^T}$ と表せるので"
   ]
  },
  {
   "cell_type": "markdown",
   "metadata": {},
   "source": [
    "$$\n",
    "\\begin{align*}\n",
    "p(\\boldsymbol{y}|\\boldsymbol{X},\\boldsymbol{w}) &= \\left(\\frac{1}{\\sqrt{2\\pi\\sigma^2}}\\right)^N \\exp{\\left\\{-\\frac{1}{2\\sigma^2} \\left(\\boldsymbol{y^T} - \\boldsymbol{w}\\boldsymbol{X^T}\\right)\\left(\\boldsymbol{y^T} - \\boldsymbol{w}\\boldsymbol{X^T}\\right)^T \\right\\}}\\\\\n",
    "&= \\left(\\frac{1}{\\sqrt{2\\pi\\sigma^2}}\\right)^N \\exp{\\left\\{-\\frac{1}{2\\sigma^2} \\left(\\boldsymbol{y} - \\boldsymbol{X}\\boldsymbol{w^T}\\right)^T\\left(\\boldsymbol{y} - \\boldsymbol{X}\\boldsymbol{w^T}\\right) \\right\\}}\\\\\n",
    "&= \\left(\\frac{1}{\\left(\\sqrt{2\\pi}\\right)^N\\sqrt{|\\sigma^2\\boldsymbol{I}|}}\\right) \\exp{\\left\\{ -\\frac{1}{2} \\left(\\boldsymbol{y} - \\boldsymbol{X}\\boldsymbol{w^T}\\right)^T \\left(\\sigma^2 \\boldsymbol{I} \\right)^{-1} \\left(\\boldsymbol{y} - \\boldsymbol{X}\\boldsymbol{w^T}\\right) \\right\\}}\n",
    "\\end{align*}\n",
    "$$"
   ]
  },
  {
   "cell_type": "markdown",
   "metadata": {},
   "source": [
    "よって,$\\boldsymbol{y}$ の事後分布は平均$\\boldsymbol{X}\\boldsymbol{w^T}$ 分散$\\sigma^2\\boldsymbol{I}$ の多次元ガウス分布となる\n",
    "\n",
    "ちなみに多次元ガウス分布は以下の式で表せる\n",
    "\n",
    "$$\n",
    "N(\\boldsymbol{x}|\\boldsymbol{\\mu},\\boldsymbol{\\Sigma}) = \\frac{1}{\\left(\\sqrt{2\\pi}\\right)^N\\sqrt{|\\boldsymbol{\\Sigma}|}}\\exp{\\left\\{-\\frac{1}{2}(\\boldsymbol{x}-\\boldsymbol{\\mu})^T \\Sigma^{-1} (\\boldsymbol{x}-\\boldsymbol{\\mu})\\right\\}}\n",
    "$$"
   ]
  },
  {
   "cell_type": "markdown",
   "metadata": {},
   "source": [
    "ここで, パラメータ$\\boldsymbol{w}$を求めたい\n",
    "\n",
    "$\\boldsymbol{w} \\sim N(0,\\Sigma)$\n",
    "\n",
    "ベイズの定理より"
   ]
  },
  {
   "cell_type": "markdown",
   "metadata": {},
   "source": [
    "\n",
    "\\begin{align*}\n",
    "p(\\boldsymbol{w}|\\boldsymbol{X},\\boldsymbol{y}) &= \\frac{p(\\boldsymbol{y}|\\boldsymbol{X},\\boldsymbol{w})p(\\boldsymbol{w})}{p(\\boldsymbol{X},\\boldsymbol{y})}\\\\\n",
    "&\\propto p(\\boldsymbol{y}|\\boldsymbol{X},\\boldsymbol{w})p(\\boldsymbol{w})\\\\\n",
    "&= \\left(\\frac{1}{\\left(\\sqrt{2\\pi}\\right)^N\\sqrt{|\\sigma^2\\boldsymbol{I}|}}\\right) \\exp{\\left\\{ -\\frac{1}{2} \\left(\\boldsymbol{y} - \\boldsymbol{Xw^T}\\right)^T \\left(\\sigma^2 \\boldsymbol{I} \\right)^{-1} \\left(\\boldsymbol{y} - \\boldsymbol{Xw^T}\\right) \\right\\}} \\left(\\frac{1}{\\left(\\sqrt{2\\pi}\\right)^D\\sqrt{|\\boldsymbol{\\Sigma}|}}\\right) \\exp{\\left(-\\frac{1}{2} \\boldsymbol{w\\Sigma^{-1}w^T} \\right)}\\\\\n",
    "&\\propto \\exp{\\left\\{ -\\frac{1}{2} \\left(\\boldsymbol{y} - \\boldsymbol{Xw^T}\\right)^T \\left(\\sigma^2 \\boldsymbol{I} \\right)^{-1} \\left(\\boldsymbol{y} - \\boldsymbol{Xw^T}\\right) \\right\\}\\left(-\\frac{1}{2} \\boldsymbol{w\\Sigma^{-1}w^T} \\right)}\\\\\n",
    "&= \\exp{\\left\\{ -\\frac{1}{2} \\left( \\left( \\boldsymbol{y} - \\boldsymbol{X}\\boldsymbol{w^T}\\right)^T \\left(\\sigma^2 \\boldsymbol{I} \\right)^{-1} \\left(\\boldsymbol{y} - \\boldsymbol{Xw^T}\\right)+\\boldsymbol{w\\Sigma^{-1}w^T} \\right) \\right\\} }\\\\\n",
    "&= \\exp{\\left\\{ -\\frac{1}{2} \\left( \\frac{1}{\\sigma^2}\\left( \\boldsymbol{y} - \\boldsymbol{Xw^T}\\right)^T \\left(\\boldsymbol{y} - \\boldsymbol{Xw^T}\\right)+\\boldsymbol{w\\Sigma^{-1}w^T} \\right) \\right\\} }\\\\\n",
    "&= \\exp{\\left\\{ -\\frac{1}{2} \\left( \\frac{1}{\\sigma^2} \\left( \\boldsymbol{y^T} - \\boldsymbol{wX^T}\\right) \\left(\\boldsymbol{y} - \\boldsymbol{Xw^T}\\right)+\\boldsymbol{w\\Sigma^{-1}w^T} \\right) \\right\\} }\\\\\n",
    "&= \\exp{\\left\\{ -\\frac{1}{2} \\left( \\frac{1}{\\sigma^2} \\left( \\boldsymbol{y^T} - \\boldsymbol{wX^T}\\right)\\boldsymbol{y} - \\left( \\boldsymbol{y^T} - \\boldsymbol{wX^T}\\right) \\boldsymbol{Xw^T} +\\boldsymbol{w\\Sigma^{-1}w^T} \\right) \\right\\} }\\\\\n",
    "&= \\exp{\\left\\{ -\\frac{1}{2} \\left( \\frac{1}{\\sigma^2} \\left(\\boldsymbol{y^Ty}-\\boldsymbol{wX^Ty}-\\boldsymbol{y^TXw^T}+\\boldsymbol{wX^TXw^T}\\right) +\\boldsymbol{w\\Sigma^{-1}w^T} \\right) \\right\\} }\\\\\n",
    "&= \\exp{\\left\\{ -\\frac{1}{2} \\left( \\frac{1}{\\sigma^2} \\left(\\boldsymbol{y^Ty}-\\boldsymbol{wX^Ty}-\\boldsymbol{y^TXw^T}\\right)+ \\frac{1}{\\sigma^2}\\boldsymbol{wX^TXw^T}+\\boldsymbol{w\\Sigma^{-1}w^T} \\right) \\right\\} }\\\\\n",
    "&= \\exp{\\left\\{ -\\frac{1}{2} \\left( \\boldsymbol{w} \\left( \\frac{1}{\\sigma^2}\\boldsymbol{X^TX}+\\boldsymbol{\\Sigma^{-1}} \\right) \\boldsymbol{w^T}-\\frac{1}{\\sigma^2}\\left(\\boldsymbol{wX^Ty}+\\boldsymbol{y^TXw^T}\\right)+\\frac{1}{\\sigma^2}\\boldsymbol{y^Ty} \\right) \\right\\}}\n",
    "\\end{align*}\n"
   ]
  },
  {
   "cell_type": "markdown",
   "metadata": {},
   "source": [
    "ここで\n",
    "\n",
    "$\\boldsymbol{A}=\\boldsymbol{A^T}=\\frac{1}{\\sigma^2}\\boldsymbol{X^TX}+\\boldsymbol{\\Sigma}^{-1}$\n",
    "\n",
    "$\\boldsymbol{b}=\\frac{1}{\\sigma^2}\\boldsymbol{X^Ty}$\n",
    "\n",
    "$c=\\frac{1}{\\sigma^2}\\boldsymbol{y^Ty}$\n",
    "\n",
    "とおくと"
   ]
  },
  {
   "cell_type": "markdown",
   "metadata": {},
   "source": [
    "\\begin{align*}\n",
    "p(\\boldsymbol{w}|\\boldsymbol{X},\\boldsymbol{y}) \n",
    "&= \\exp{\\left\\{ -\\frac{1}{2} \\left( \\boldsymbol{wAw^T}-\\boldsymbol{wb}-\\boldsymbol{b^Tw^T}+c \\right) \\right\\}}\\\\\n",
    "&= \\exp{\\left\\{ -\\frac{1}{2} \\left( \\boldsymbol{wAw^T}-\\boldsymbol{wb}-\\boldsymbol{b^Tw^T} +\\boldsymbol{b^TA^{-1}b}-\\boldsymbol{b^TA^{-1}b} +c \\right) \\right\\}}\\\\\n",
    "&= \\exp{\\left\\{ -\\frac{1}{2} \\left( \\left(\\boldsymbol{wA}-\\boldsymbol{b^T}\\right)\\boldsymbol{w^T} - \\left(\\boldsymbol{w}-\\boldsymbol{b^TA^{-1}}\\right)\\boldsymbol{b} -\\boldsymbol{b^TA^{-1}b} +c \\right) \\right\\}}\\\\\n",
    "&= \\exp{\\left\\{ -\\frac{1}{2} \\left( \\left(\\boldsymbol{wA}-\\boldsymbol{b^T}\\right)\\boldsymbol{w^T} - \\left(\\boldsymbol{wAA^{-1}}-\\boldsymbol{b^TA^{-1}}\\right)\\boldsymbol{b} -\\boldsymbol{b^TA^{-1}b} +c \\right) \\right\\}}\\\\\n",
    "&= \\exp{\\left\\{ -\\frac{1}{2} \\left( \\left(\\boldsymbol{wA}-\\boldsymbol{b^T}\\right)\\boldsymbol{w^T} - \\left(\\boldsymbol{wA}-\\boldsymbol{b^T}\\right)\\boldsymbol{A^{-1}b} -\\boldsymbol{b^TA^{-1}b} +c \\right) \\right\\}}\\\\\n",
    "&= \\exp{\\left\\{ -\\frac{1}{2} \\left( \\left(\\boldsymbol{wA}-\\boldsymbol{b^T}\\right)\\left(\\boldsymbol{w^T} - \\boldsymbol{A^{-1}b}\\right) -\\boldsymbol{b^TA^{-1}b} +c \\right) \\right\\}}\\\\\n",
    "&= \\exp{\\left\\{ -\\frac{1}{2} \\left( \\left(\\boldsymbol{w}-\\boldsymbol{b^TA^{-1}}\\right)\\boldsymbol{A}\\left(\\boldsymbol{w^T} - \\boldsymbol{A^{-1}b}\\right) -\\boldsymbol{b^TA^{-1}b} +c \\right) \\right\\}}\\\\\n",
    "&= \\exp{\\left\\{ -\\frac{1}{2} \\left( \\left(\\boldsymbol{w^T}-\\boldsymbol{A^{-1}b}\\right)^T\\boldsymbol{A}\\left(\\boldsymbol{w^T} - \\boldsymbol{A^{-1}b}\\right) -\\boldsymbol{b^TA^{-1}b} +c \\right) \\right\\}}\\\\\n",
    "&= \\exp{\\left\\{ -\\frac{1}{2} \\left( \\boldsymbol{w^T}-\\boldsymbol{A^{-1}b}\\right)^T\\boldsymbol{A}\\left(\\boldsymbol{w^T} - \\boldsymbol{A^{-1}b}\\right)\\right\\}}\\exp{\\left\\{-\\frac{1}{2} \\left(c-\\boldsymbol{b^TA^{-1}b}\\right)\\right\\}}\\\\\n",
    "&\\propto \\exp{\\left\\{ -\\frac{1}{2} \\left( \\boldsymbol{w^T}-\\boldsymbol{A^{-1}b}\\right)^T\\boldsymbol{(A^{-1})^{-1}}\\left(\\boldsymbol{w^T} - \\boldsymbol{A^{-1}b}\\right)\\right\\}}\n",
    "\\end{align*}"
   ]
  },
  {
   "cell_type": "markdown",
   "metadata": {},
   "source": [
    "従って $\\boldsymbol{w}$ の事後分布は,\n",
    "\n",
    "平均 $\\overline{\\boldsymbol{w}} = E[\\boldsymbol{w}] = \\boldsymbol{A^{-1}b} = \\left(\\frac{1}{\\sigma^2}\\boldsymbol{X^TX}+\\boldsymbol{\\Sigma}^{-1}\\right)^{-1} \\frac{1}{\\sigma^2}\\boldsymbol{X^Ty}$ \n",
    "\n",
    "分散  $\\overline{\\boldsymbol{v}} = V[\\boldsymbol{w}] = \\boldsymbol{A^{-1}} = \\left(\\frac{1}{\\sigma^2}\\boldsymbol{X^TX}+\\boldsymbol{\\Sigma}^{-1}\\right)^{-1}$\n",
    "\n",
    "の多次元ガウス分布に従う"
   ]
  },
  {
   "cell_type": "markdown",
   "metadata": {},
   "source": [
    "## 予測式を導出する\n",
    "\n",
    "新しく得られた観測データを $\\hat{x}$ とする(ただし(1, D)のベクトル)\n",
    "\n",
    "ここで, $f(\\boldsymbol{\\hat{x}})$ がとりうる期待値$E[f(\\boldsymbol{\\hat{x}})]$は\n",
    "\n",
    "$$\n",
    "E[f(\\boldsymbol{\\hat{x}})] = E[\\boldsymbol{\\hat{x}w^T}]\n",
    "$$ \n",
    "\n",
    "$\\boldsymbol{\\hat{x}}$ は定数なので, \n",
    "\n",
    "$$\n",
    "E[f(\\boldsymbol{\\hat{x}})] = \\boldsymbol{\\hat{x}}E[\\boldsymbol{w^T}] = \\boldsymbol{\\hat{x}}\\overline{\\boldsymbol{w^T}} \n",
    "$$\n",
    "\n",
    "また, 分散 $V[f(\\boldsymbol{\\hat{x}})]$ は\n",
    "\n",
    "$$\n",
    "\\begin{align*}\n",
    "V[f(\\boldsymbol{\\hat{x}})] &= E \\left[ \\left(f(\\boldsymbol{\\hat{x}})-\\overline{f(\\boldsymbol{\\hat{x}})} \\right) \\left(f(\\boldsymbol{\\hat{x}})-\\overline{f(\\boldsymbol{\\hat{x}})} \\right)^T \\right] \\\\\n",
    "&= E \\left[ \\left(f(\\boldsymbol{\\hat{x}})-E[f(\\boldsymbol{\\hat{x}})] \\right) \\left(f(\\boldsymbol{\\hat{x}})-E[f(\\boldsymbol{\\hat{x}})] \\right)^T \\right]\\\\\n",
    "&= E \\left[ \\left(\\boldsymbol{\\hat{x}w^T}-\\boldsymbol{\\hat{x}\\overline{w^T}} \\right) \\left(\\boldsymbol{\\hat{x}w^T}-\\boldsymbol{\\hat{x}\\overline{w^T}} \\right)^T \\right]\\\\\n",
    "&= E \\left[ \\boldsymbol{\\hat{x}}\\left(\\boldsymbol{w^T}-\\boldsymbol{\\overline{w^T}} \\right) \\left\\{ \\boldsymbol{\\hat{x}^T}\\left(\\boldsymbol{w^T}-\\boldsymbol{\\overline{w^T}} \\right) \\right\\}^T \\right] \\\\\n",
    "&= E \\left[ \\boldsymbol{\\hat{x}}\\left(\\boldsymbol{w^T}-\\boldsymbol{\\overline{w^T}} \\right) \\left(\\boldsymbol{w^T}-\\boldsymbol{\\overline{w^T}}\\right)^T\\boldsymbol{\\hat{x}^T} \\right] \\\\\n",
    "&= \\boldsymbol{\\hat{x}}E\\left[\\left(\\boldsymbol{w^T}-\\boldsymbol{\\overline{w^T}} \\right) \\left(\\boldsymbol{w^T}-\\boldsymbol{\\overline{w^T}}\\right)^T \\right]\\boldsymbol{\\hat{x}^T} \\\\\n",
    "&= \\boldsymbol{\\hat{x}V[w]\\hat{x}^T}\\\\\n",
    "&= \\boldsymbol{\\hat{x}A^{-1}\\hat{x}^T}\n",
    "\\end{align*}\n",
    "$$\n"
   ]
  },
  {
   "cell_type": "markdown",
   "metadata": {},
   "source": [
    "ここで\n",
    "\n",
    "$$\n",
    "\\begin{align*}\n",
    "\\boldsymbol{A} & = \\boldsymbol{A^T}=\\frac{1}{\\sigma^2}\\boldsymbol{X^TX}+\\boldsymbol{\\Sigma}^{-1} \\\\\n",
    "&=\n",
    "\\end{align*}\n",
    "$$"
   ]
  },
  {
   "cell_type": "code",
   "execution_count": null,
   "metadata": {},
   "outputs": [],
   "source": []
  }
 ],
 "metadata": {
  "kernelspec": {
   "display_name": "Python 3",
   "language": "python",
   "name": "python3"
  },
  "language_info": {
   "codemirror_mode": {
    "name": "ipython",
    "version": 3
   },
   "file_extension": ".py",
   "mimetype": "text/x-python",
   "name": "python",
   "nbconvert_exporter": "python",
   "pygments_lexer": "ipython3",
   "version": "3.6.0"
  }
 },
 "nbformat": 4,
 "nbformat_minor": 2
}
